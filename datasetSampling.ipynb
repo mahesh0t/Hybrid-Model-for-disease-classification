{
 "cells": [
  {
   "cell_type": "code",
   "execution_count": 1,
   "id": "1e13da89-e755-4a26-9648-da1d84648475",
   "metadata": {},
   "outputs": [
    {
     "name": "stdout",
     "output_type": "stream",
     "text": [
      "Sampled 1000 images from class 1. Eczema - 1.6k\n",
      "Sampled 1000 images from class 2. Melanoma - 3.1k\n",
      "Sampled 1000 images from class 3. Atopic Dermatitis - 1.25k\n",
      "Sampled 1000 images from class 4. Melanocytic Nevi - 7.9k\n",
      "Sampled 1000 images from class 5. Benign Keratosis - 2k\n",
      "Sampled 1000 images from class 6. Fungal Infections - 1.7k\n",
      "Sampled 1000 images from class 7. Viral Infections - 2.1k\n",
      "Sampling complete! Images are saved in 'Sampled_IMG_CLASSES'\n"
     ]
    }
   ],
   "source": [
    "import os\n",
    "import shutil\n",
    "import random\n",
    "\n",
    "# Define paths\n",
    "input_dir = \"D:/Capstone Project/IMG_CLASSES - Copy\"  # Your raw dataset folder\n",
    "output_dir = \"Sampled_IMG_CLASSES\"  # Folder to store sampled images\n",
    "os.makedirs(output_dir, exist_ok=True)\n",
    "\n",
    "# Set sample size\n",
    "sample_size = 1000\n",
    "\n",
    "# Iterate through each class folder\n",
    "for class_name in os.listdir(input_dir):\n",
    "    class_path = os.path.join(input_dir, class_name)\n",
    "    output_class_path = os.path.join(output_dir, class_name)\n",
    "    \n",
    "    if not os.path.isdir(class_path):\n",
    "        continue  # Skip non-folder items\n",
    "    \n",
    "    os.makedirs(output_class_path, exist_ok=True)\n",
    "    \n",
    "    # Get list of images in class folder\n",
    "    images = [img for img in os.listdir(class_path) if img.lower().endswith(('png', 'jpg', 'jpeg'))]\n",
    "    \n",
    "    # Randomly sample 1000 images (or all if less than 1000)\n",
    "    sampled_images = random.sample(images, min(sample_size, len(images)))\n",
    "    \n",
    "    # Copy sampled images to new folder\n",
    "    for img_name in sampled_images:\n",
    "        src = os.path.join(class_path, img_name)\n",
    "        dst = os.path.join(output_class_path, img_name)\n",
    "        shutil.copy2(src, dst)\n",
    "    \n",
    "    print(f\"Sampled {len(sampled_images)} images from class {class_name}\")\n",
    "\n",
    "print(\"Sampling complete! Images are saved in 'Sampled_IMG_CLASSES'\")"
   ]
  },
  {
   "cell_type": "code",
   "execution_count": 3,
   "id": "2d9d8a96-98f0-4a27-a93a-ba784d775fbf",
   "metadata": {},
   "outputs": [
    {
     "name": "stdout",
     "output_type": "stream",
     "text": [
      "Resizing images for class: 1. Eczema\n"
     ]
    },
    {
     "name": "stderr",
     "output_type": "stream",
     "text": [
      "Processing 1. Eczema: 100%|██████████| 1000/1000 [00:12<00:00, 82.85it/s]\n"
     ]
    },
    {
     "name": "stdout",
     "output_type": "stream",
     "text": [
      "Resizing images for class: 2. Melanoma\n"
     ]
    },
    {
     "name": "stderr",
     "output_type": "stream",
     "text": [
      "Processing 2. Melanoma: 100%|██████████| 1000/1000 [00:11<00:00, 86.74it/s]\n"
     ]
    },
    {
     "name": "stdout",
     "output_type": "stream",
     "text": [
      "Resizing images for class: 3. Atopic Dermatitis\n"
     ]
    },
    {
     "name": "stderr",
     "output_type": "stream",
     "text": [
      "Processing 3. Atopic Dermatitis: 100%|██████████| 1000/1000 [00:10<00:00, 94.05it/s]\n"
     ]
    },
    {
     "name": "stdout",
     "output_type": "stream",
     "text": [
      "Resizing images for class: 4. Melanocytic Nevi\n"
     ]
    },
    {
     "name": "stderr",
     "output_type": "stream",
     "text": [
      "Processing 4. Melanocytic Nevi: 100%|██████████| 1000/1000 [00:15<00:00, 66.25it/s]\n"
     ]
    },
    {
     "name": "stdout",
     "output_type": "stream",
     "text": [
      "Resizing images for class: 5. Benign Keratosis\n"
     ]
    },
    {
     "name": "stderr",
     "output_type": "stream",
     "text": [
      "Processing 5. Benign Keratosis: 100%|██████████| 1000/1000 [00:18<00:00, 55.55it/s]\n"
     ]
    },
    {
     "name": "stdout",
     "output_type": "stream",
     "text": [
      "Resizing images for class: 6. Fungal Infections\n"
     ]
    },
    {
     "name": "stderr",
     "output_type": "stream",
     "text": [
      "Processing 6. Fungal Infections: 100%|██████████| 1000/1000 [00:12<00:00, 83.11it/s]\n"
     ]
    },
    {
     "name": "stdout",
     "output_type": "stream",
     "text": [
      "Resizing images for class: 7. Viral Infections\n"
     ]
    },
    {
     "name": "stderr",
     "output_type": "stream",
     "text": [
      "Processing 7. Viral Infections: 100%|██████████| 1000/1000 [00:10<00:00, 91.76it/s]"
     ]
    },
    {
     "name": "stdout",
     "output_type": "stream",
     "text": [
      "Resizing complete! Images saved in 'Resized_IMG_CLASSES/'\n"
     ]
    },
    {
     "name": "stderr",
     "output_type": "stream",
     "text": [
      "\n"
     ]
    }
   ],
   "source": [
    "import os\n",
    "import cv2\n",
    "import shutil\n",
    "from tqdm import tqdm\n",
    "\n",
    "# Define input and output directories\n",
    "input_dir = \"Sampled_IMG_CLASSES\"  # Directory with sampled images\n",
    "output_dir = \"Resized_IMG_CLASSES\"  # Directory to save resized images\n",
    "os.makedirs(output_dir, exist_ok=True)\n",
    "\n",
    "# Set target image size\n",
    "IMG_SIZE = (224, 224)  # Change if needed\n",
    "\n",
    "# Process each class folder\n",
    "for class_name in os.listdir(input_dir):\n",
    "    class_path = os.path.join(input_dir, class_name)\n",
    "    output_class_path = os.path.join(output_dir, class_name)\n",
    "\n",
    "    if not os.path.isdir(class_path):\n",
    "        continue  # Skip non-folder items\n",
    "\n",
    "    os.makedirs(output_class_path, exist_ok=True)  # Create class folder in output directory\n",
    "\n",
    "    print(f\"Resizing images for class: {class_name}\")\n",
    "\n",
    "    # Process each image in the class folder\n",
    "    for img_name in tqdm(os.listdir(class_path), desc=f\"Processing {class_name}\"):\n",
    "        img_path = os.path.join(class_path, img_name)\n",
    "        img_output_path = os.path.join(output_class_path, img_name)\n",
    "\n",
    "        # Load image\n",
    "        image = cv2.imread(img_path)\n",
    "        if image is None:\n",
    "            continue  # Skip unreadable images\n",
    "\n",
    "        # Resize image\n",
    "        image = cv2.resize(image, IMG_SIZE, interpolation=cv2.INTER_AREA)\n",
    "\n",
    "        # Save resized image\n",
    "        cv2.imwrite(img_output_path, image)\n",
    "\n",
    "print(\"Resizing complete! Images saved in 'Resized_IMG_CLASSES/'\")"
   ]
  },
  {
   "cell_type": "code",
   "execution_count": null,
   "id": "abd2cdeb-df54-4462-ac5a-7e8e7e042a42",
   "metadata": {},
   "outputs": [],
   "source": []
  }
 ],
 "metadata": {
  "kernelspec": {
   "display_name": "Python [conda env:base] *",
   "language": "python",
   "name": "conda-base-py"
  },
  "language_info": {
   "codemirror_mode": {
    "name": "ipython",
    "version": 3
   },
   "file_extension": ".py",
   "mimetype": "text/x-python",
   "name": "python",
   "nbconvert_exporter": "python",
   "pygments_lexer": "ipython3",
   "version": "3.12.7"
  }
 },
 "nbformat": 4,
 "nbformat_minor": 5
}
