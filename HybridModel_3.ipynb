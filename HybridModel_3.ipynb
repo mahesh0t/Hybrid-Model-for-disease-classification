{
 "cells": [
  {
   "cell_type": "code",
   "execution_count": 1,
   "id": "16c652b4-e300-4548-a777-48bd6fd2e84f",
   "metadata": {},
   "outputs": [
    {
     "name": "stdout",
     "output_type": "stream",
     "text": [
      "ResNet features: (7000, 2048)\n",
      "DenseNet features: (7000, 1024)\n",
      "Manual features: (7000, 18)\n",
      "Labels: (7000,)\n",
      "Combined feature shape: (7000, 3090)\n"
     ]
    }
   ],
   "source": [
    "# ResNet + DenseNet + Manaul\n",
    "import numpy as np\n",
    "from sklearn.model_selection import train_test_split\n",
    "from sklearn.impute import SimpleImputer\n",
    "from sklearn.preprocessing import StandardScaler\n",
    "from sklearn.metrics import classification_report, accuracy_score\n",
    "\n",
    "# Load features and labels\n",
    "resnet_features = np.load(\"featuresets/resnet_features.npy\")\n",
    "densenet_features = np.load(\"featuresets/densenet_features.npy\")\n",
    "manual_features = np.load(\"featuresets/manual_features.npy\")\n",
    "labels = np.load(\"featuresets/vgg_labels.npy\")\n",
    "\n",
    "# Check dimensions\n",
    "print(\"ResNet features:\", resnet_features.shape)\n",
    "print(\"DenseNet features:\", densenet_features.shape)\n",
    "print(\"Manual features:\", manual_features.shape)\n",
    "print(\"Labels:\", labels.shape)\n",
    "\n",
    "# Combine features\n",
    "combined_features = np.hstack((resnet_features, densenet_features, manual_features))\n",
    "print(\"Combined feature shape:\", combined_features.shape)\n",
    "\n",
    "# Handle missing values\n",
    "imputer = SimpleImputer(strategy=\"mean\")\n",
    "combined_features = imputer.fit_transform(combined_features)\n",
    "\n",
    "# Normalize\n",
    "scaler = StandardScaler()\n",
    "combined_features = scaler.fit_transform(combined_features)\n",
    "\n",
    "# Split data\n",
    "X_train, X_test, y_train, y_test = train_test_split(\n",
    "    combined_features, labels, test_size=0.2, random_state=42, stratify=labels\n",
    ")\n"
   ]
  },
  {
   "cell_type": "code",
   "execution_count": 3,
   "id": "2504d6ab-0046-43ce-8eec-1f620896d840",
   "metadata": {},
   "outputs": [
    {
     "name": "stderr",
     "output_type": "stream",
     "text": [
      "D:\\Anaconda\\Lib\\site-packages\\xgboost\\training.py:183: UserWarning: [11:47:35] WARNING: C:\\actions-runner\\_work\\xgboost\\xgboost\\src\\learner.cc:738: \n",
      "Parameters: { \"use_label_encoder\" } are not used.\n",
      "\n",
      "  bst.update(dtrain, iteration=i, fobj=obj)\n"
     ]
    },
    {
     "name": "stdout",
     "output_type": "stream",
     "text": [
      "\n",
      "[XGBoost]\n",
      "              precision    recall  f1-score   support\n",
      "\n",
      "           0       0.60      0.62      0.61       200\n",
      "           1       0.90      0.89      0.90       200\n",
      "           2       0.54      0.50      0.52       200\n",
      "           3       0.83      0.85      0.84       200\n",
      "           4       0.87      0.86      0.87       200\n",
      "           5       0.60      0.61      0.61       200\n",
      "           6       0.58      0.59      0.59       200\n",
      "\n",
      "    accuracy                           0.70      1400\n",
      "   macro avg       0.70      0.71      0.70      1400\n",
      "weighted avg       0.70      0.70      0.70      1400\n",
      "\n",
      "Accuracy: 0.705\n"
     ]
    }
   ],
   "source": [
    "from xgboost import XGBClassifier\n",
    "\n",
    "model = XGBClassifier(use_label_encoder=False, eval_metric='mlogloss', random_state=42)\n",
    "model.fit(X_train, y_train)\n",
    "y_pred = model.predict(X_test)\n",
    "print(\"\\n[XGBoost]\")\n",
    "print(classification_report(y_test, y_pred))\n",
    "print(\"Accuracy:\", accuracy_score(y_test, y_pred))\n"
   ]
  },
  {
   "cell_type": "code",
   "execution_count": 4,
   "id": "8b67746b-1e32-4b27-aff5-139b41163f17",
   "metadata": {},
   "outputs": [
    {
     "name": "stdout",
     "output_type": "stream",
     "text": [
      "\n",
      "[SVM]\n",
      "              precision    recall  f1-score   support\n",
      "\n",
      "           0       0.57      0.61      0.59       200\n",
      "           1       0.90      0.89      0.90       200\n",
      "           2       0.54      0.53      0.53       200\n",
      "           3       0.82      0.84      0.83       200\n",
      "           4       0.85      0.84      0.85       200\n",
      "           5       0.63      0.62      0.63       200\n",
      "           6       0.59      0.58      0.59       200\n",
      "\n",
      "    accuracy                           0.70      1400\n",
      "   macro avg       0.70      0.70      0.70      1400\n",
      "weighted avg       0.70      0.70      0.70      1400\n",
      "\n",
      "Accuracy: 0.7014285714285714\n"
     ]
    }
   ],
   "source": [
    "from sklearn.svm import SVC\n",
    "\n",
    "model = SVC()\n",
    "model.fit(X_train, y_train)\n",
    "y_pred = model.predict(X_test)\n",
    "print(\"\\n[SVM]\")\n",
    "print(classification_report(y_test, y_pred))\n",
    "print(\"Accuracy:\", accuracy_score(y_test, y_pred))\n"
   ]
  },
  {
   "cell_type": "code",
   "execution_count": 5,
   "id": "850052b0-c8b1-465b-b382-ff29aba28b3a",
   "metadata": {},
   "outputs": [
    {
     "name": "stdout",
     "output_type": "stream",
     "text": [
      "\n",
      "[Logistic Regression]\n",
      "              precision    recall  f1-score   support\n",
      "\n",
      "           0       0.48      0.49      0.49       200\n",
      "           1       0.90      0.86      0.88       200\n",
      "           2       0.51      0.46      0.48       200\n",
      "           3       0.80      0.84      0.82       200\n",
      "           4       0.85      0.83      0.84       200\n",
      "           5       0.53      0.54      0.53       200\n",
      "           6       0.49      0.51      0.50       200\n",
      "\n",
      "    accuracy                           0.65      1400\n",
      "   macro avg       0.65      0.65      0.65      1400\n",
      "weighted avg       0.65      0.65      0.65      1400\n",
      "\n",
      "Accuracy: 0.6492857142857142\n"
     ]
    }
   ],
   "source": [
    "from sklearn.linear_model import LogisticRegression\n",
    "\n",
    "model = LogisticRegression(max_iter=1000)\n",
    "model.fit(X_train, y_train)\n",
    "y_pred = model.predict(X_test)\n",
    "print(\"\\n[Logistic Regression]\")\n",
    "print(classification_report(y_test, y_pred))\n",
    "print(\"Accuracy:\", accuracy_score(y_test, y_pred))\n"
   ]
  },
  {
   "cell_type": "code",
   "execution_count": 6,
   "id": "71cbeb40-5242-46d5-a371-68b73ad76b0d",
   "metadata": {},
   "outputs": [
    {
     "name": "stdout",
     "output_type": "stream",
     "text": [
      "\n",
      "[Random Forest]\n",
      "              precision    recall  f1-score   support\n",
      "\n",
      "           0       0.55      0.60      0.58       200\n",
      "           1       0.80      0.85      0.83       200\n",
      "           2       0.49      0.44      0.46       200\n",
      "           3       0.72      0.80      0.75       200\n",
      "           4       0.85      0.78      0.81       200\n",
      "           5       0.56      0.56      0.56       200\n",
      "           6       0.53      0.47      0.50       200\n",
      "\n",
      "    accuracy                           0.64      1400\n",
      "   macro avg       0.64      0.64      0.64      1400\n",
      "weighted avg       0.64      0.64      0.64      1400\n",
      "\n",
      "Accuracy: 0.6442857142857142\n"
     ]
    }
   ],
   "source": [
    "from sklearn.ensemble import RandomForestClassifier\n",
    "\n",
    "model = RandomForestClassifier(n_estimators=100, random_state=42)\n",
    "model.fit(X_train, y_train)\n",
    "y_pred = model.predict(X_test)\n",
    "print(\"\\n[Random Forest]\")\n",
    "print(classification_report(y_test, y_pred))\n",
    "print(\"Accuracy:\", accuracy_score(y_test, y_pred))\n"
   ]
  },
  {
   "cell_type": "code",
   "execution_count": 7,
   "id": "b0c790fb-5924-4863-b2e0-f3acf0db82bd",
   "metadata": {},
   "outputs": [
    {
     "name": "stdout",
     "output_type": "stream",
     "text": [
      "\n",
      "[Decision Tree]\n",
      "              precision    recall  f1-score   support\n",
      "\n",
      "           0       0.45      0.46      0.45       200\n",
      "           1       0.69      0.66      0.68       200\n",
      "           2       0.29      0.32      0.30       200\n",
      "           3       0.58      0.58      0.58       200\n",
      "           4       0.62      0.62      0.62       200\n",
      "           5       0.40      0.38      0.39       200\n",
      "           6       0.40      0.40      0.40       200\n",
      "\n",
      "    accuracy                           0.49      1400\n",
      "   macro avg       0.49      0.49      0.49      1400\n",
      "weighted avg       0.49      0.49      0.49      1400\n",
      "\n",
      "Accuracy: 0.48714285714285716\n"
     ]
    }
   ],
   "source": [
    "from sklearn.tree import DecisionTreeClassifier\n",
    "\n",
    "model = DecisionTreeClassifier(random_state=42)\n",
    "model.fit(X_train, y_train)\n",
    "y_pred = model.predict(X_test)\n",
    "print(\"\\n[Decision Tree]\")\n",
    "print(classification_report(y_test, y_pred))\n",
    "print(\"Accuracy:\", accuracy_score(y_test, y_pred))\n"
   ]
  },
  {
   "cell_type": "code",
   "execution_count": 8,
   "id": "b809a9fd-d6f9-4028-af63-33a22935c172",
   "metadata": {},
   "outputs": [
    {
     "name": "stderr",
     "output_type": "stream",
     "text": [
      "D:\\Anaconda\\Lib\\site-packages\\joblib\\externals\\loky\\backend\\context.py:136: UserWarning: Could not find the number of physical cores for the following reason:\n",
      "found 0 physical cores < 1\n",
      "Returning the number of logical cores instead. You can silence this warning by setting LOKY_MAX_CPU_COUNT to the number of cores you want to use.\n",
      "  warnings.warn(\n",
      "  File \"D:\\Anaconda\\Lib\\site-packages\\joblib\\externals\\loky\\backend\\context.py\", line 282, in _count_physical_cores\n",
      "    raise ValueError(f\"found {cpu_count_physical} physical cores < 1\")\n"
     ]
    },
    {
     "name": "stdout",
     "output_type": "stream",
     "text": [
      "\n",
      "[KNN]\n",
      "              precision    recall  f1-score   support\n",
      "\n",
      "           0       0.50      0.62      0.55       200\n",
      "           1       0.71      0.90      0.79       200\n",
      "           2       0.46      0.47      0.47       200\n",
      "           3       0.73      0.73      0.73       200\n",
      "           4       0.79      0.74      0.76       200\n",
      "           5       0.61      0.61      0.61       200\n",
      "           6       0.50      0.25      0.33       200\n",
      "\n",
      "    accuracy                           0.62      1400\n",
      "   macro avg       0.61      0.62      0.61      1400\n",
      "weighted avg       0.61      0.62      0.61      1400\n",
      "\n",
      "Accuracy: 0.6192857142857143\n"
     ]
    }
   ],
   "source": [
    "from sklearn.neighbors import KNeighborsClassifier\n",
    "\n",
    "model = KNeighborsClassifier(n_neighbors=5)\n",
    "model.fit(X_train, y_train)\n",
    "y_pred = model.predict(X_test)\n",
    "print(\"\\n[KNN]\")\n",
    "print(classification_report(y_test, y_pred))\n",
    "print(\"Accuracy:\", accuracy_score(y_test, y_pred))\n"
   ]
  },
  {
   "cell_type": "code",
   "execution_count": 9,
   "id": "58f1cf11-1358-4ada-9f18-264cd76a09a2",
   "metadata": {},
   "outputs": [
    {
     "name": "stdout",
     "output_type": "stream",
     "text": [
      "\n",
      "[Naive Bayes]\n",
      "              precision    recall  f1-score   support\n",
      "\n",
      "           0       0.49      0.53      0.51       200\n",
      "           1       0.52      0.79      0.63       200\n",
      "           2       0.36      0.20      0.25       200\n",
      "           3       0.60      0.70      0.65       200\n",
      "           4       0.89      0.47      0.61       200\n",
      "           5       0.46      0.56      0.51       200\n",
      "           6       0.44      0.43      0.44       200\n",
      "\n",
      "    accuracy                           0.53      1400\n",
      "   macro avg       0.54      0.53      0.51      1400\n",
      "weighted avg       0.54      0.53      0.51      1400\n",
      "\n",
      "Accuracy: 0.525\n"
     ]
    }
   ],
   "source": [
    "from sklearn.naive_bayes import GaussianNB\n",
    "\n",
    "model = GaussianNB()\n",
    "model.fit(X_train, y_train)\n",
    "y_pred = model.predict(X_test)\n",
    "print(\"\\n[Naive Bayes]\")\n",
    "print(classification_report(y_test, y_pred))\n",
    "print(\"Accuracy:\", accuracy_score(y_test, y_pred))\n"
   ]
  },
  {
   "cell_type": "code",
   "execution_count": null,
   "id": "175e73f4-096f-45e2-a957-0023a5918f4d",
   "metadata": {},
   "outputs": [],
   "source": []
  }
 ],
 "metadata": {
  "kernelspec": {
   "display_name": "Python [conda env:base] *",
   "language": "python",
   "name": "conda-base-py"
  },
  "language_info": {
   "codemirror_mode": {
    "name": "ipython",
    "version": 3
   },
   "file_extension": ".py",
   "mimetype": "text/x-python",
   "name": "python",
   "nbconvert_exporter": "python",
   "pygments_lexer": "ipython3",
   "version": "3.12.7"
  }
 },
 "nbformat": 4,
 "nbformat_minor": 5
}
