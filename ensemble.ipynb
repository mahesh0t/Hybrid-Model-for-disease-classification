{
 "cells": [
  {
   "cell_type": "code",
   "execution_count": 5,
   "id": "356f52bf-2163-4504-a6eb-a4c6d76a9c46",
   "metadata": {},
   "outputs": [],
   "source": [
    "# Load .npy files\n",
    "import numpy as np\n",
    "\n",
    "# Load features and labels\n",
    "train_manual    = np.load(\"featuresets/train_manual_features.npy\")\n",
    "test_manual     = np.load(\"featuresets/test_manual_features.npy\")\n",
    "train_mobilenet = np.load(\"featuresets/train_mobilenet_features.npy\")\n",
    "test_mobilenet  = np.load(\"featuresets/test_mobilenet_features.npy\")\n",
    "train_densenet  = np.load(\"featuresets/train_densenet_features.npy\")\n",
    "test_densenet   = np.load(\"featuresets/test_densenet_features.npy\")\n",
    "train_labels    = np.load(\"featuresets/train_manual_labels.npy\")\n",
    "test_labels     = np.load(\"featuresets/test_manual_labels.npy\")\n"
   ]
  },
  {
   "cell_type": "code",
   "execution_count": 7,
   "id": "5251c978-b4b3-4572-ace4-3b666fb3116f",
   "metadata": {},
   "outputs": [
    {
     "name": "stdout",
     "output_type": "stream",
     "text": [
      "Train shape: (8400, 2318)\n",
      "Test shape: (1400, 2318)\n",
      "Labels: (8400,)\n",
      "Filtered train shape: (6900, 2318)\n",
      "Filtered test shape: (1200, 2318)\n",
      "\n",
      "🤝 Ensemble Voting Results (Top 3 Models)\n",
      "              precision    recall  f1-score   support\n",
      "\n",
      "           0       0.78      0.76      0.77       200\n",
      "           1       0.88      0.93      0.90       200\n",
      "           2       0.78      0.80      0.79       200\n",
      "           3       0.86      0.82      0.84       200\n",
      "           4       0.90      0.91      0.90       200\n",
      "           5       0.81      0.81      0.81       200\n",
      "\n",
      "    accuracy                           0.84      1200\n",
      "   macro avg       0.84      0.84      0.84      1200\n",
      "weighted avg       0.84      0.84      0.84      1200\n",
      "\n",
      "Voting Ensemble Accuracy: 0.8366666666666667\n"
     ]
    }
   ],
   "source": [
    "# ✅ Combine features\n",
    "X_train = np.hstack((train_manual, train_mobilenet, train_densenet))\n",
    "X_test  = np.hstack((test_manual, test_mobilenet, test_densenet))\n",
    "\n",
    "print(\"Train shape:\", X_train.shape)\n",
    "print(\"Test shape:\", X_test.shape)\n",
    "print(\"Labels:\", train_labels.shape)\n",
    "\n",
    "# 🔍 Remove Class 6\n",
    "class_to_remove = 6\n",
    "train_mask = train_labels != class_to_remove\n",
    "test_mask  = test_labels != class_to_remove\n",
    "\n",
    "X_train_filtered = X_train[train_mask]\n",
    "X_test_filtered  = X_test[test_mask]\n",
    "y_train_filtered = train_labels[train_mask]\n",
    "y_test_filtered  = test_labels[test_mask]\n",
    "\n",
    "print(\"Filtered train shape:\", X_train_filtered.shape)\n",
    "print(\"Filtered test shape:\", X_test_filtered.shape)\n",
    "\n",
    "# 🤖 Import models\n",
    "from sklearn.ensemble import VotingClassifier, RandomForestClassifier\n",
    "from sklearn.svm import SVC\n",
    "from xgboost import XGBClassifier\n",
    "from sklearn.metrics import classification_report, accuracy_score\n",
    "\n",
    "# 🧠 3-Model Ensemble (SVM + XGB + RF)\n",
    "ensemble = VotingClassifier(\n",
    "    estimators=[\n",
    "        ('svm', SVC(probability=True, C=10, gamma='scale', random_state=42)),\n",
    "        ('xgb', XGBClassifier(use_label_encoder=False, eval_metric='mlogloss', random_state=42)),\n",
    "        ('rf', RandomForestClassifier(n_estimators=150, random_state=42))\n",
    "    ],\n",
    "    voting='soft',\n",
    "    n_jobs=-1\n",
    ")\n",
    "\n",
    "# 🏋️ Train and Predict\n",
    "ensemble.fit(X_train_filtered, y_train_filtered)\n",
    "y_pred = ensemble.predict(X_test_filtered)\n",
    "\n",
    "# 📊 Evaluate\n",
    "print(\"\\n🤝 Ensemble Voting Results (Top 3 Models)\")\n",
    "print(classification_report(y_test_filtered, y_pred))\n",
    "print(\"Voting Ensemble Accuracy:\", accuracy_score(y_test_filtered, y_pred))"
   ]
  },
  {
   "cell_type": "code",
   "execution_count": 8,
   "id": "e621ff02-0c49-4a85-9836-b11eff4eae0e",
   "metadata": {},
   "outputs": [
    {
     "name": "stdout",
     "output_type": "stream",
     "text": [
      "✅ Ensemble model saved successfully!\n"
     ]
    }
   ],
   "source": [
    "import joblib\n",
    "\n",
    "# Save the ensemble model\n",
    "joblib.dump(ensemble, \"ensemble_model.joblib\")\n",
    "print(\"✅ Ensemble model saved successfully!\")"
   ]
  },
  {
   "cell_type": "code",
   "execution_count": null,
   "id": "631e6c2f-8b48-4d08-b8f2-2d37b0e59691",
   "metadata": {},
   "outputs": [],
   "source": []
  }
 ],
 "metadata": {
  "kernelspec": {
   "display_name": "Python [conda env:base] *",
   "language": "python",
   "name": "conda-base-py"
  },
  "language_info": {
   "codemirror_mode": {
    "name": "ipython",
    "version": 3
   },
   "file_extension": ".py",
   "mimetype": "text/x-python",
   "name": "python",
   "nbconvert_exporter": "python",
   "pygments_lexer": "ipython3",
   "version": "3.12.7"
  }
 },
 "nbformat": 4,
 "nbformat_minor": 5
}
