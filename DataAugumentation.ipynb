{
 "cells": [
  {
   "cell_type": "code",
   "execution_count": 3,
   "id": "b0110165-e1b5-4e20-b390-fcf4c6c498eb",
   "metadata": {},
   "outputs": [
    {
     "name": "stdout",
     "output_type": "stream",
     "text": [
      "Collecting imgaug\n",
      "  Downloading imgaug-0.4.0-py2.py3-none-any.whl.metadata (1.8 kB)\n",
      "Requirement already satisfied: six in d:\\anaconda\\lib\\site-packages (from imgaug) (1.16.0)\n",
      "Requirement already satisfied: numpy>=1.15 in d:\\anaconda\\lib\\site-packages (from imgaug) (1.26.4)\n",
      "Requirement already satisfied: scipy in d:\\anaconda\\lib\\site-packages (from imgaug) (1.13.1)\n",
      "Requirement already satisfied: Pillow in d:\\anaconda\\lib\\site-packages (from imgaug) (10.4.0)\n",
      "Requirement already satisfied: matplotlib in d:\\anaconda\\lib\\site-packages (from imgaug) (3.9.2)\n",
      "Requirement already satisfied: scikit-image>=0.14.2 in d:\\anaconda\\lib\\site-packages (from imgaug) (0.25.2)\n",
      "Requirement already satisfied: opencv-python in d:\\anaconda\\lib\\site-packages (from imgaug) (4.11.0.86)\n",
      "Requirement already satisfied: imageio in d:\\anaconda\\lib\\site-packages (from imgaug) (2.33.1)\n",
      "Collecting Shapely (from imgaug)\n",
      "  Downloading shapely-2.1.0-cp312-cp312-win_amd64.whl.metadata (7.0 kB)\n",
      "Requirement already satisfied: networkx>=3.0 in d:\\anaconda\\lib\\site-packages (from scikit-image>=0.14.2->imgaug) (3.3)\n",
      "Requirement already satisfied: tifffile>=2022.8.12 in d:\\anaconda\\lib\\site-packages (from scikit-image>=0.14.2->imgaug) (2023.4.12)\n",
      "Requirement already satisfied: packaging>=21 in d:\\anaconda\\lib\\site-packages (from scikit-image>=0.14.2->imgaug) (24.1)\n",
      "Requirement already satisfied: lazy-loader>=0.4 in d:\\anaconda\\lib\\site-packages (from scikit-image>=0.14.2->imgaug) (0.4)\n",
      "Requirement already satisfied: contourpy>=1.0.1 in d:\\anaconda\\lib\\site-packages (from matplotlib->imgaug) (1.2.0)\n",
      "Requirement already satisfied: cycler>=0.10 in d:\\anaconda\\lib\\site-packages (from matplotlib->imgaug) (0.11.0)\n",
      "Requirement already satisfied: fonttools>=4.22.0 in d:\\anaconda\\lib\\site-packages (from matplotlib->imgaug) (4.51.0)\n",
      "Requirement already satisfied: kiwisolver>=1.3.1 in d:\\anaconda\\lib\\site-packages (from matplotlib->imgaug) (1.4.4)\n",
      "Requirement already satisfied: pyparsing>=2.3.1 in d:\\anaconda\\lib\\site-packages (from matplotlib->imgaug) (3.1.2)\n",
      "Requirement already satisfied: python-dateutil>=2.7 in d:\\anaconda\\lib\\site-packages (from matplotlib->imgaug) (2.9.0.post0)\n",
      "Downloading imgaug-0.4.0-py2.py3-none-any.whl (948 kB)\n",
      "   ---------------------------------------- 0.0/948.0 kB ? eta -:--:--\n",
      "   ---------------------------------------- 0.0/948.0 kB ? eta -:--:--\n",
      "   ---------------------- ----------------- 524.3/948.0 kB 2.8 MB/s eta 0:00:01\n",
      "   ---------------------------------------- 948.0/948.0 kB 2.7 MB/s eta 0:00:00\n",
      "Downloading shapely-2.1.0-cp312-cp312-win_amd64.whl (1.7 MB)\n",
      "   ---------------------------------------- 0.0/1.7 MB ? eta -:--:--\n",
      "   ------------------------------ --------- 1.3/1.7 MB 9.6 MB/s eta 0:00:01\n",
      "   ---------------------------------------- 1.7/1.7 MB 7.7 MB/s eta 0:00:00\n",
      "Installing collected packages: Shapely, imgaug\n",
      "Successfully installed Shapely-2.1.0 imgaug-0.4.0\n"
     ]
    }
   ],
   "source": [
    "!pip install imgaug\n"
   ]
  },
  {
   "cell_type": "code",
   "execution_count": 5,
   "id": "e32ebea3-9915-4667-a3f5-9ee0001594b2",
   "metadata": {},
   "outputs": [
    {
     "name": "stdout",
     "output_type": "stream",
     "text": [
      "\n",
      "Augmenting: 1. Eczema\n",
      "\n",
      "Augmenting: 3. Atopic Dermatitis\n",
      "\n",
      "Augmenting: 6. Fungal Infections\n",
      "\n",
      "Augmenting: 7. Viral Infections\n"
     ]
    }
   ],
   "source": [
    "import os\n",
    "import cv2\n",
    "import numpy as np\n",
    "from tqdm import tqdm\n",
    "from imgaug import augmenters as iaa\n",
    "\n",
    "input_dir = \"Resized_IMG_CLASSES\"\n",
    "output_dir = \"Augmented_IMG_CLASSES\"\n",
    "\n",
    "# Folder names to augment and class mapping\n",
    "target_folders = [\n",
    "    \"1. Eczema\",              # Class 0\n",
    "    \"3. Atopic Dermatitis\",   # Class 2\n",
    "    \"6. Fungal Infections\",   # Class 5\n",
    "    \"7. Viral Infections\"     # Class 6\n",
    "]\n",
    "\n",
    "target_count = 1500\n",
    "\n",
    "augmenter = iaa.Sequential([\n",
    "    iaa.Fliplr(0.5),\n",
    "    iaa.Rotate((-25, 25)),\n",
    "    iaa.Multiply((0.8, 1.2)),\n",
    "    iaa.GaussianBlur(sigma=(0, 1.0))\n",
    "])\n",
    "\n",
    "os.makedirs(output_dir, exist_ok=True)\n",
    "\n",
    "for folder in os.listdir(input_dir):\n",
    "    input_path = os.path.join(input_dir, folder)\n",
    "    output_path = os.path.join(output_dir, folder)\n",
    "    os.makedirs(output_path, exist_ok=True)\n",
    "\n",
    "    images = [f for f in os.listdir(input_path) if f.lower().endswith(('.jpg', '.jpeg', '.png'))]\n",
    "    current_count = len(images)\n",
    "\n",
    "    # Copy originals\n",
    "    for img in images:\n",
    "        img_path = os.path.join(input_path, img)\n",
    "        out_path = os.path.join(output_path, img)\n",
    "        cv2.imwrite(out_path, cv2.imread(img_path))\n",
    "\n",
    "    # Skip augmentation if not in the target list\n",
    "    if folder not in target_folders:\n",
    "        continue\n",
    "\n",
    "    print(f\"\\nAugmenting: {folder}\")\n",
    "    needed = target_count - current_count\n",
    "    if needed <= 0:\n",
    "        continue\n",
    "\n",
    "    idx = 0\n",
    "    while len(os.listdir(output_path)) < target_count:\n",
    "        img_name = images[idx % current_count]\n",
    "        img_path = os.path.join(input_path, img_name)\n",
    "        image = cv2.imread(img_path)\n",
    "\n",
    "        if image is None:\n",
    "            idx += 1\n",
    "            continue\n",
    "\n",
    "        image = cv2.cvtColor(image, cv2.COLOR_BGR2RGB)\n",
    "        aug_img = augmenter(image=image)\n",
    "        aug_img = cv2.cvtColor(aug_img, cv2.COLOR_RGB2BGR)\n",
    "\n",
    "        aug_name = f\"aug_{idx}_{img_name}\"\n",
    "        aug_path = os.path.join(output_path, aug_name)\n",
    "        cv2.imwrite(aug_path, aug_img)\n",
    "\n",
    "        idx += 1\n"
   ]
  },
  {
   "cell_type": "code",
   "execution_count": null,
   "id": "ad9c0cc7-3533-4cca-a19b-a45c0c15fc02",
   "metadata": {},
   "outputs": [],
   "source": []
  }
 ],
 "metadata": {
  "kernelspec": {
   "display_name": "Python [conda env:base] *",
   "language": "python",
   "name": "conda-base-py"
  },
  "language_info": {
   "codemirror_mode": {
    "name": "ipython",
    "version": 3
   },
   "file_extension": ".py",
   "mimetype": "text/x-python",
   "name": "python",
   "nbconvert_exporter": "python",
   "pygments_lexer": "ipython3",
   "version": "3.12.7"
  }
 },
 "nbformat": 4,
 "nbformat_minor": 5
}
