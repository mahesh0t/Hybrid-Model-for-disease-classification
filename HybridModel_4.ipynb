{
 "cells": [
  {
   "cell_type": "code",
   "execution_count": 1,
   "id": "f9ea3037-a475-43ca-91ca-249b60bb92bd",
   "metadata": {},
   "outputs": [
    {
     "name": "stdout",
     "output_type": "stream",
     "text": [
      "ResNet: (7000, 2048)\n",
      "DenseNet: (7000, 1024)\n",
      "MobileNet: (7000, 1280)\n",
      "Manual: (7000, 18)\n",
      "Labels: (7000,)\n",
      "Combined shape: (7000, 4370)\n"
     ]
    }
   ],
   "source": [
    "#ResNet + DenseNet + MobilevNet + Manual\n",
    "\n",
    "import numpy as np\n",
    "from sklearn.model_selection import train_test_split\n",
    "from sklearn.impute import SimpleImputer\n",
    "from sklearn.preprocessing import StandardScaler\n",
    "from sklearn.metrics import classification_report, accuracy_score\n",
    "\n",
    "# Load features and labels\n",
    "resnet = np.load(\"featuresets/resnet_features.npy\")\n",
    "densenet = np.load(\"featuresets/densenet_features.npy\")\n",
    "mobilenet = np.load(\"featuresets/mobilenet_features.npy\")\n",
    "manual = np.load(\"featuresets/manual_features.npy\")\n",
    "labels = np.load(\"featuresets/vgg_labels.npy\")\n",
    "\n",
    "# Check shapes\n",
    "print(\"ResNet:\", resnet.shape)\n",
    "print(\"DenseNet:\", densenet.shape)\n",
    "print(\"MobileNet:\", mobilenet.shape)\n",
    "print(\"Manual:\", manual.shape)\n",
    "print(\"Labels:\", labels.shape)\n",
    "\n",
    "# Combine features\n",
    "combined = np.hstack((resnet, densenet, mobilenet, manual))\n",
    "print(\"Combined shape:\", combined.shape)\n",
    "\n",
    "# Handle NaNs\n",
    "imputer = SimpleImputer(strategy=\"mean\")\n",
    "combined = imputer.fit_transform(combined)\n",
    "\n",
    "# Normalize\n",
    "scaler = StandardScaler()\n",
    "combined = scaler.fit_transform(combined)\n",
    "\n",
    "# Train-test split\n",
    "X_train, X_test, y_train, y_test = train_test_split(\n",
    "    combined, labels, test_size=0.2, random_state=42, stratify=labels\n",
    ")\n"
   ]
  },
  {
   "cell_type": "code",
   "execution_count": 3,
   "id": "c048f380-b4b2-48c4-8cce-51d0e278f615",
   "metadata": {},
   "outputs": [
    {
     "name": "stderr",
     "output_type": "stream",
     "text": [
      "D:\\Anaconda\\Lib\\site-packages\\xgboost\\training.py:183: UserWarning: [11:58:06] WARNING: C:\\actions-runner\\_work\\xgboost\\xgboost\\src\\learner.cc:738: \n",
      "Parameters: { \"use_label_encoder\" } are not used.\n",
      "\n",
      "  bst.update(dtrain, iteration=i, fobj=obj)\n"
     ]
    },
    {
     "name": "stdout",
     "output_type": "stream",
     "text": [
      "\n",
      "[XGBoost]\n",
      "              precision    recall  f1-score   support\n",
      "\n",
      "           0       0.63      0.61      0.62       200\n",
      "           1       0.92      0.94      0.93       200\n",
      "           2       0.58      0.58      0.58       200\n",
      "           3       0.84      0.84      0.84       200\n",
      "           4       0.87      0.86      0.86       200\n",
      "           5       0.59      0.62      0.61       200\n",
      "           6       0.60      0.58      0.59       200\n",
      "\n",
      "    accuracy                           0.72      1400\n",
      "   macro avg       0.72      0.72      0.72      1400\n",
      "weighted avg       0.72      0.72      0.72      1400\n",
      "\n",
      "Accuracy: 0.72\n"
     ]
    }
   ],
   "source": [
    "from xgboost import XGBClassifier\n",
    "\n",
    "model = XGBClassifier(use_label_encoder=False, eval_metric='mlogloss', random_state=42)\n",
    "model.fit(X_train, y_train)\n",
    "y_pred = model.predict(X_test)\n",
    "print(\"\\n[XGBoost]\")\n",
    "print(classification_report(y_test, y_pred))\n",
    "print(\"Accuracy:\", accuracy_score(y_test, y_pred))\n"
   ]
  },
  {
   "cell_type": "code",
   "execution_count": 4,
   "id": "abc5734a-4636-4160-833a-39d01f3df0dd",
   "metadata": {},
   "outputs": [
    {
     "name": "stdout",
     "output_type": "stream",
     "text": [
      "\n",
      "[SVM]\n",
      "              precision    recall  f1-score   support\n",
      "\n",
      "           0       0.63      0.62      0.63       200\n",
      "           1       0.92      0.91      0.91       200\n",
      "           2       0.63      0.62      0.63       200\n",
      "           3       0.83      0.85      0.84       200\n",
      "           4       0.86      0.84      0.85       200\n",
      "           5       0.69      0.69      0.69       200\n",
      "           6       0.65      0.66      0.65       200\n",
      "\n",
      "    accuracy                           0.74      1400\n",
      "   macro avg       0.74      0.74      0.74      1400\n",
      "weighted avg       0.74      0.74      0.74      1400\n",
      "\n",
      "Accuracy: 0.7435714285714285\n"
     ]
    }
   ],
   "source": [
    "from sklearn.svm import SVC\n",
    "\n",
    "model = SVC()\n",
    "model.fit(X_train, y_train)\n",
    "y_pred = model.predict(X_test)\n",
    "print(\"\\n[SVM]\")\n",
    "print(classification_report(y_test, y_pred))\n",
    "print(\"Accuracy:\", accuracy_score(y_test, y_pred))\n"
   ]
  },
  {
   "cell_type": "code",
   "execution_count": 5,
   "id": "8ca19640-aacd-45d3-8960-8a6a80d3ff36",
   "metadata": {},
   "outputs": [
    {
     "name": "stdout",
     "output_type": "stream",
     "text": [
      "\n",
      "[Logistic Regression]\n",
      "              precision    recall  f1-score   support\n",
      "\n",
      "           0       0.55      0.53      0.54       200\n",
      "           1       0.92      0.93      0.93       200\n",
      "           2       0.56      0.52      0.54       200\n",
      "           3       0.84      0.84      0.84       200\n",
      "           4       0.88      0.87      0.88       200\n",
      "           5       0.57      0.60      0.58       200\n",
      "           6       0.56      0.59      0.57       200\n",
      "\n",
      "    accuracy                           0.70      1400\n",
      "   macro avg       0.70      0.70      0.70      1400\n",
      "weighted avg       0.70      0.70      0.70      1400\n",
      "\n",
      "Accuracy: 0.6964285714285714\n"
     ]
    }
   ],
   "source": [
    "from sklearn.linear_model import LogisticRegression\n",
    "\n",
    "model = LogisticRegression(max_iter=1000)\n",
    "model.fit(X_train, y_train)\n",
    "y_pred = model.predict(X_test)\n",
    "print(\"\\n[Logistic Regression]\")\n",
    "print(classification_report(y_test, y_pred))\n",
    "print(\"Accuracy:\", accuracy_score(y_test, y_pred))\n"
   ]
  },
  {
   "cell_type": "code",
   "execution_count": 6,
   "id": "ae97201d-c9bc-4ad4-b7f4-d3b6b3175b1e",
   "metadata": {},
   "outputs": [
    {
     "name": "stdout",
     "output_type": "stream",
     "text": [
      "\n",
      "[Random Forest]\n",
      "              precision    recall  f1-score   support\n",
      "\n",
      "           0       0.58      0.59      0.59       200\n",
      "           1       0.82      0.89      0.86       200\n",
      "           2       0.57      0.52      0.54       200\n",
      "           3       0.74      0.77      0.75       200\n",
      "           4       0.82      0.81      0.81       200\n",
      "           5       0.55      0.60      0.58       200\n",
      "           6       0.60      0.52      0.55       200\n",
      "\n",
      "    accuracy                           0.67      1400\n",
      "   macro avg       0.67      0.67      0.67      1400\n",
      "weighted avg       0.67      0.67      0.67      1400\n",
      "\n",
      "Accuracy: 0.6714285714285714\n"
     ]
    }
   ],
   "source": [
    "from sklearn.ensemble import RandomForestClassifier\n",
    "\n",
    "model = RandomForestClassifier(n_estimators=100, random_state=42)\n",
    "model.fit(X_train, y_train)\n",
    "y_pred = model.predict(X_test)\n",
    "print(\"\\n[Random Forest]\")\n",
    "print(classification_report(y_test, y_pred))\n",
    "print(\"Accuracy:\", accuracy_score(y_test, y_pred))\n"
   ]
  },
  {
   "cell_type": "code",
   "execution_count": 7,
   "id": "6fa0f6ab-ff91-4f28-a357-9199608093eb",
   "metadata": {},
   "outputs": [
    {
     "name": "stdout",
     "output_type": "stream",
     "text": [
      "\n",
      "[Decision Tree]\n",
      "              precision    recall  f1-score   support\n",
      "\n",
      "           0       0.39      0.35      0.37       200\n",
      "           1       0.63      0.65      0.64       200\n",
      "           2       0.40      0.38      0.39       200\n",
      "           3       0.56      0.57      0.57       200\n",
      "           4       0.61      0.65      0.63       200\n",
      "           5       0.42      0.38      0.40       200\n",
      "           6       0.38      0.42      0.40       200\n",
      "\n",
      "    accuracy                           0.49      1400\n",
      "   macro avg       0.48      0.49      0.49      1400\n",
      "weighted avg       0.48      0.49      0.49      1400\n",
      "\n",
      "Accuracy: 0.4878571428571429\n"
     ]
    }
   ],
   "source": [
    "from sklearn.tree import DecisionTreeClassifier\n",
    "\n",
    "model = DecisionTreeClassifier(random_state=42)\n",
    "model.fit(X_train, y_train)\n",
    "y_pred = model.predict(X_test)\n",
    "print(\"\\n[Decision Tree]\")\n",
    "print(classification_report(y_test, y_pred))\n",
    "print(\"Accuracy:\", accuracy_score(y_test, y_pred))\n"
   ]
  },
  {
   "cell_type": "code",
   "execution_count": 8,
   "id": "0a8f5ec7-fcf5-4c21-b35a-3b02467c9ee7",
   "metadata": {},
   "outputs": [
    {
     "name": "stderr",
     "output_type": "stream",
     "text": [
      "D:\\Anaconda\\Lib\\site-packages\\joblib\\externals\\loky\\backend\\context.py:136: UserWarning: Could not find the number of physical cores for the following reason:\n",
      "found 0 physical cores < 1\n",
      "Returning the number of logical cores instead. You can silence this warning by setting LOKY_MAX_CPU_COUNT to the number of cores you want to use.\n",
      "  warnings.warn(\n",
      "  File \"D:\\Anaconda\\Lib\\site-packages\\joblib\\externals\\loky\\backend\\context.py\", line 282, in _count_physical_cores\n",
      "    raise ValueError(f\"found {cpu_count_physical} physical cores < 1\")\n"
     ]
    },
    {
     "name": "stdout",
     "output_type": "stream",
     "text": [
      "\n",
      "[KNN]\n",
      "              precision    recall  f1-score   support\n",
      "\n",
      "           0       0.56      0.62      0.59       200\n",
      "           1       0.74      0.93      0.82       200\n",
      "           2       0.49      0.49      0.49       200\n",
      "           3       0.75      0.73      0.74       200\n",
      "           4       0.83      0.78      0.80       200\n",
      "           5       0.56      0.70      0.63       200\n",
      "           6       0.58      0.28      0.38       200\n",
      "\n",
      "    accuracy                           0.65      1400\n",
      "   macro avg       0.65      0.65      0.64      1400\n",
      "weighted avg       0.65      0.65      0.64      1400\n",
      "\n",
      "Accuracy: 0.6478571428571429\n"
     ]
    }
   ],
   "source": [
    "from sklearn.neighbors import KNeighborsClassifier\n",
    "\n",
    "model = KNeighborsClassifier(n_neighbors=5)\n",
    "model.fit(X_train, y_train)\n",
    "y_pred = model.predict(X_test)\n",
    "print(\"\\n[KNN]\")\n",
    "print(classification_report(y_test, y_pred))\n",
    "print(\"Accuracy:\", accuracy_score(y_test, y_pred))\n"
   ]
  },
  {
   "cell_type": "code",
   "execution_count": 9,
   "id": "3d309940-0997-4b35-8804-0442add70f01",
   "metadata": {},
   "outputs": [
    {
     "name": "stdout",
     "output_type": "stream",
     "text": [
      "\n",
      "[Naive Bayes]\n",
      "              precision    recall  f1-score   support\n",
      "\n",
      "           0       0.52      0.58      0.55       200\n",
      "           1       0.56      0.81      0.66       200\n",
      "           2       0.49      0.28      0.36       200\n",
      "           3       0.62      0.73      0.67       200\n",
      "           4       0.90      0.53      0.66       200\n",
      "           5       0.50      0.52      0.51       200\n",
      "           6       0.42      0.43      0.43       200\n",
      "\n",
      "    accuracy                           0.56      1400\n",
      "   macro avg       0.57      0.56      0.55      1400\n",
      "weighted avg       0.57      0.56      0.55      1400\n",
      "\n",
      "Accuracy: 0.5557142857142857\n"
     ]
    }
   ],
   "source": [
    "from sklearn.naive_bayes import GaussianNB\n",
    "\n",
    "model = GaussianNB()\n",
    "model.fit(X_train, y_train)\n",
    "y_pred = model.predict(X_test)\n",
    "print(\"\\n[Naive Bayes]\")\n",
    "print(classification_report(y_test, y_pred))\n",
    "print(\"Accuracy:\", accuracy_score(y_test, y_pred))\n"
   ]
  },
  {
   "cell_type": "code",
   "execution_count": null,
   "id": "46cd7477-1424-4bc1-8889-bbeabdb66c7e",
   "metadata": {},
   "outputs": [],
   "source": []
  }
 ],
 "metadata": {
  "kernelspec": {
   "display_name": "Python [conda env:base] *",
   "language": "python",
   "name": "conda-base-py"
  },
  "language_info": {
   "codemirror_mode": {
    "name": "ipython",
    "version": 3
   },
   "file_extension": ".py",
   "mimetype": "text/x-python",
   "name": "python",
   "nbconvert_exporter": "python",
   "pygments_lexer": "ipython3",
   "version": "3.12.7"
  }
 },
 "nbformat": 4,
 "nbformat_minor": 5
}
