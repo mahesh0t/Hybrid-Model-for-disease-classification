{
 "cells": [
  {
   "cell_type": "code",
   "execution_count": 3,
   "id": "246d0095-3015-45ce-a79e-c9c2dca0fa91",
   "metadata": {},
   "outputs": [
    {
     "name": "stdout",
     "output_type": "stream",
     "text": [
      "ResNet features: (7000, 2048)\n",
      "MobileNet features: (7000, 1280)\n",
      "Manual features: (7000, 18)\n",
      "Labels: (7000,)\n",
      "Combined feature shape: (7000, 3346)\n"
     ]
    }
   ],
   "source": [
    "#ResNet + MobilevNet + Manual\n",
    "\n",
    "import numpy as np\n",
    "from sklearn.model_selection import train_test_split\n",
    "from sklearn.impute import SimpleImputer\n",
    "from sklearn.preprocessing import StandardScaler\n",
    "from sklearn.metrics import classification_report, accuracy_score\n",
    "\n",
    "# Load features and labels\n",
    "resnet_features = np.load(\"featuresets/resnet_features.npy\")\n",
    "mobilenet_features = np.load(\"featuresets/mobilenet_features.npy\")\n",
    "manual_features = np.load(\"featuresets/manual_features.npy\")\n",
    "labels = np.load(\"featuresets/vgg_labels.npy\")\n",
    "\n",
    "# Check dimensions\n",
    "print(\"ResNet features:\", resnet_features.shape)\n",
    "print(\"MobileNet features:\", mobilenet_features.shape)\n",
    "print(\"Manual features:\", manual_features.shape)\n",
    "print(\"Labels:\", labels.shape)\n",
    "\n",
    "# Concatenate features\n",
    "combined_features = np.hstack((resnet_features, mobilenet_features, manual_features))\n",
    "print(\"Combined feature shape:\", combined_features.shape)\n",
    "\n",
    "# Handle missing values\n",
    "imputer = SimpleImputer(strategy=\"mean\")\n",
    "combined_features = imputer.fit_transform(combined_features)\n",
    "\n",
    "# Scale\n",
    "scaler = StandardScaler()\n",
    "combined_features = scaler.fit_transform(combined_features)\n",
    "\n",
    "# Split\n",
    "X_train, X_test, y_train, y_test = train_test_split(combined_features, labels, test_size=0.2, random_state=42, stratify=labels)\n"
   ]
  },
  {
   "cell_type": "code",
   "execution_count": 5,
   "id": "16a09eeb-d2ee-41ed-bc2c-2313103360e2",
   "metadata": {},
   "outputs": [
    {
     "name": "stderr",
     "output_type": "stream",
     "text": [
      "D:\\Anaconda\\Lib\\site-packages\\xgboost\\training.py:183: UserWarning: [11:34:29] WARNING: C:\\actions-runner\\_work\\xgboost\\xgboost\\src\\learner.cc:738: \n",
      "Parameters: { \"use_label_encoder\" } are not used.\n",
      "\n",
      "  bst.update(dtrain, iteration=i, fobj=obj)\n"
     ]
    },
    {
     "name": "stdout",
     "output_type": "stream",
     "text": [
      "\n",
      "[XGBoost]\n",
      "              precision    recall  f1-score   support\n",
      "\n",
      "           0       0.60      0.59      0.59       200\n",
      "           1       0.88      0.91      0.89       200\n",
      "           2       0.59      0.57      0.58       200\n",
      "           3       0.83      0.80      0.81       200\n",
      "           4       0.84      0.84      0.84       200\n",
      "           5       0.65      0.68      0.67       200\n",
      "           6       0.61      0.60      0.61       200\n",
      "\n",
      "    accuracy                           0.71      1400\n",
      "   macro avg       0.71      0.71      0.71      1400\n",
      "weighted avg       0.71      0.71      0.71      1400\n",
      "\n",
      "Accuracy: 0.7142857142857143\n"
     ]
    }
   ],
   "source": [
    "from xgboost import XGBClassifier\n",
    "\n",
    "model = XGBClassifier(use_label_encoder=False, eval_metric='mlogloss', random_state=42)\n",
    "model.fit(X_train, y_train)\n",
    "y_pred = model.predict(X_test)\n",
    "print(\"\\n[XGBoost]\")\n",
    "print(classification_report(y_test, y_pred))\n",
    "print(\"Accuracy:\", accuracy_score(y_test, y_pred))\n"
   ]
  },
  {
   "cell_type": "code",
   "execution_count": 6,
   "id": "857b968b-3e5b-47e9-9be8-eaf823181228",
   "metadata": {},
   "outputs": [
    {
     "name": "stdout",
     "output_type": "stream",
     "text": [
      "\n",
      "[SVM]\n",
      "              precision    recall  f1-score   support\n",
      "\n",
      "           0       0.62      0.62      0.62       200\n",
      "           1       0.88      0.88      0.88       200\n",
      "           2       0.61      0.61      0.61       200\n",
      "           3       0.80      0.82      0.81       200\n",
      "           4       0.85      0.84      0.84       200\n",
      "           5       0.68      0.66      0.67       200\n",
      "           6       0.62      0.62      0.62       200\n",
      "\n",
      "    accuracy                           0.72      1400\n",
      "   macro avg       0.72      0.72      0.72      1400\n",
      "weighted avg       0.72      0.72      0.72      1400\n",
      "\n",
      "Accuracy: 0.7235714285714285\n"
     ]
    }
   ],
   "source": [
    "from sklearn.svm import SVC\n",
    "\n",
    "model = SVC()\n",
    "model.fit(X_train, y_train)\n",
    "y_pred = model.predict(X_test)\n",
    "print(\"\\n[SVM]\")\n",
    "print(classification_report(y_test, y_pred))\n",
    "print(\"Accuracy:\", accuracy_score(y_test, y_pred))\n"
   ]
  },
  {
   "cell_type": "code",
   "execution_count": 7,
   "id": "2afebf14-bd45-43b0-a468-40573ff2ab04",
   "metadata": {},
   "outputs": [
    {
     "name": "stdout",
     "output_type": "stream",
     "text": [
      "\n",
      "[Logistic Regression]\n",
      "              precision    recall  f1-score   support\n",
      "\n",
      "           0       0.58      0.51      0.54       200\n",
      "           1       0.91      0.92      0.92       200\n",
      "           2       0.54      0.54      0.54       200\n",
      "           3       0.83      0.81      0.82       200\n",
      "           4       0.86      0.87      0.86       200\n",
      "           5       0.59      0.62      0.60       200\n",
      "           6       0.55      0.59      0.57       200\n",
      "\n",
      "    accuracy                           0.69      1400\n",
      "   macro avg       0.69      0.69      0.69      1400\n",
      "weighted avg       0.69      0.69      0.69      1400\n",
      "\n",
      "Accuracy: 0.6935714285714286\n"
     ]
    }
   ],
   "source": [
    "from sklearn.linear_model import LogisticRegression\n",
    "\n",
    "model = LogisticRegression(max_iter=1000)\n",
    "model.fit(X_train, y_train)\n",
    "y_pred = model.predict(X_test)\n",
    "print(\"\\n[Logistic Regression]\")\n",
    "print(classification_report(y_test, y_pred))\n",
    "print(\"Accuracy:\", accuracy_score(y_test, y_pred))\n"
   ]
  },
  {
   "cell_type": "code",
   "execution_count": 8,
   "id": "9eab92d3-73f2-43df-a7e3-ff00d76f6934",
   "metadata": {},
   "outputs": [
    {
     "name": "stdout",
     "output_type": "stream",
     "text": [
      "\n",
      "[Random Forest]\n",
      "              precision    recall  f1-score   support\n",
      "\n",
      "           0       0.55      0.60      0.57       200\n",
      "           1       0.78      0.86      0.82       200\n",
      "           2       0.61      0.52      0.56       200\n",
      "           3       0.75      0.78      0.77       200\n",
      "           4       0.79      0.76      0.77       200\n",
      "           5       0.56      0.60      0.58       200\n",
      "           6       0.63      0.53      0.57       200\n",
      "\n",
      "    accuracy                           0.67      1400\n",
      "   macro avg       0.67      0.67      0.66      1400\n",
      "weighted avg       0.67      0.67      0.66      1400\n",
      "\n",
      "Accuracy: 0.6657142857142857\n"
     ]
    }
   ],
   "source": [
    "from sklearn.ensemble import RandomForestClassifier\n",
    "\n",
    "model = RandomForestClassifier(n_estimators=100, random_state=42)\n",
    "model.fit(X_train, y_train)\n",
    "y_pred = model.predict(X_test)\n",
    "print(\"\\n[Random Forest]\")\n",
    "print(classification_report(y_test, y_pred))\n",
    "print(\"Accuracy:\", accuracy_score(y_test, y_pred))\n"
   ]
  },
  {
   "cell_type": "code",
   "execution_count": 9,
   "id": "57fd6619-1fd8-438a-8c7e-5c65d2629703",
   "metadata": {},
   "outputs": [
    {
     "name": "stdout",
     "output_type": "stream",
     "text": [
      "\n",
      "[Decision Tree]\n",
      "              precision    recall  f1-score   support\n",
      "\n",
      "           0       0.42      0.38      0.40       200\n",
      "           1       0.71      0.64      0.67       200\n",
      "           2       0.42      0.41      0.41       200\n",
      "           3       0.56      0.56      0.56       200\n",
      "           4       0.53      0.60      0.56       200\n",
      "           5       0.38      0.40      0.39       200\n",
      "           6       0.39      0.41      0.40       200\n",
      "\n",
      "    accuracy                           0.48      1400\n",
      "   macro avg       0.49      0.48      0.49      1400\n",
      "weighted avg       0.49      0.48      0.49      1400\n",
      "\n",
      "Accuracy: 0.485\n"
     ]
    }
   ],
   "source": [
    "from sklearn.tree import DecisionTreeClassifier\n",
    "\n",
    "model = DecisionTreeClassifier(random_state=42)\n",
    "model.fit(X_train, y_train)\n",
    "y_pred = model.predict(X_test)\n",
    "print(\"\\n[Decision Tree]\")\n",
    "print(classification_report(y_test, y_pred))\n",
    "print(\"Accuracy:\", accuracy_score(y_test, y_pred))\n"
   ]
  },
  {
   "cell_type": "code",
   "execution_count": 10,
   "id": "64ca0c1b-84b7-45aa-9354-cae8c26a4d2a",
   "metadata": {},
   "outputs": [
    {
     "name": "stderr",
     "output_type": "stream",
     "text": [
      "D:\\Anaconda\\Lib\\site-packages\\joblib\\externals\\loky\\backend\\context.py:136: UserWarning: Could not find the number of physical cores for the following reason:\n",
      "found 0 physical cores < 1\n",
      "Returning the number of logical cores instead. You can silence this warning by setting LOKY_MAX_CPU_COUNT to the number of cores you want to use.\n",
      "  warnings.warn(\n",
      "  File \"D:\\Anaconda\\Lib\\site-packages\\joblib\\externals\\loky\\backend\\context.py\", line 282, in _count_physical_cores\n",
      "    raise ValueError(f\"found {cpu_count_physical} physical cores < 1\")\n"
     ]
    },
    {
     "name": "stdout",
     "output_type": "stream",
     "text": [
      "\n",
      "[KNN]\n",
      "              precision    recall  f1-score   support\n",
      "\n",
      "           0       0.60      0.66      0.63       200\n",
      "           1       0.71      0.89      0.79       200\n",
      "           2       0.53      0.56      0.55       200\n",
      "           3       0.72      0.70      0.71       200\n",
      "           4       0.80      0.78      0.79       200\n",
      "           5       0.59      0.69      0.64       200\n",
      "           6       0.63      0.29      0.40       200\n",
      "\n",
      "    accuracy                           0.66      1400\n",
      "   macro avg       0.66      0.66      0.64      1400\n",
      "weighted avg       0.66      0.66      0.64      1400\n",
      "\n",
      "Accuracy: 0.655\n"
     ]
    }
   ],
   "source": [
    "from sklearn.neighbors import KNeighborsClassifier\n",
    "\n",
    "model = KNeighborsClassifier(n_neighbors=5)\n",
    "model.fit(X_train, y_train)\n",
    "y_pred = model.predict(X_test)\n",
    "print(\"\\n[KNN]\")\n",
    "print(classification_report(y_test, y_pred))\n",
    "print(\"Accuracy:\", accuracy_score(y_test, y_pred))\n"
   ]
  },
  {
   "cell_type": "code",
   "execution_count": 11,
   "id": "a08b206d-14c6-4a19-bf4e-c63c9cda4910",
   "metadata": {},
   "outputs": [
    {
     "name": "stdout",
     "output_type": "stream",
     "text": [
      "\n",
      "[Naive Bayes]\n",
      "              precision    recall  f1-score   support\n",
      "\n",
      "           0       0.52      0.58      0.55       200\n",
      "           1       0.50      0.81      0.62       200\n",
      "           2       0.48      0.25      0.33       200\n",
      "           3       0.62      0.68      0.65       200\n",
      "           4       0.84      0.53      0.65       200\n",
      "           5       0.53      0.54      0.53       200\n",
      "           6       0.40      0.40      0.40       200\n",
      "\n",
      "    accuracy                           0.54      1400\n",
      "   macro avg       0.55      0.54      0.53      1400\n",
      "weighted avg       0.55      0.54      0.53      1400\n",
      "\n",
      "Accuracy: 0.5407142857142857\n"
     ]
    }
   ],
   "source": [
    "from sklearn.naive_bayes import GaussianNB\n",
    "\n",
    "model = GaussianNB()\n",
    "model.fit(X_train, y_train)\n",
    "y_pred = model.predict(X_test)\n",
    "print(\"\\n[Naive Bayes]\")\n",
    "print(classification_report(y_test, y_pred))\n",
    "print(\"Accuracy:\", accuracy_score(y_test, y_pred))\n"
   ]
  },
  {
   "cell_type": "code",
   "execution_count": null,
   "id": "e3988d6e-6d44-450a-bbd3-c0059c726738",
   "metadata": {},
   "outputs": [],
   "source": []
  }
 ],
 "metadata": {
  "kernelspec": {
   "display_name": "Python [conda env:base] *",
   "language": "python",
   "name": "conda-base-py"
  },
  "language_info": {
   "codemirror_mode": {
    "name": "ipython",
    "version": 3
   },
   "file_extension": ".py",
   "mimetype": "text/x-python",
   "name": "python",
   "nbconvert_exporter": "python",
   "pygments_lexer": "ipython3",
   "version": "3.12.7"
  }
 },
 "nbformat": 4,
 "nbformat_minor": 5
}
