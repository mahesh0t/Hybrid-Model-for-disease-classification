{
 "cells": [
  {
   "cell_type": "code",
   "execution_count": 1,
   "id": "82533458-d52a-4be1-ad4e-eccabf14d479",
   "metadata": {},
   "outputs": [
    {
     "name": "stdout",
     "output_type": "stream",
     "text": [
      "Manual: (8400, 14)\n",
      "MobileNet: (8400, 1280)\n",
      "DenseNet: (8400, 1024)\n",
      "Labels: (8400,)\n",
      "Combined train shape: (8400, 2318)\n",
      "Combined test shape: (1400, 2318)\n"
     ]
    }
   ],
   "source": [
    "import numpy as np\n",
    "from sklearn.metrics import classification_report, accuracy_score\n",
    "from sklearn.ensemble import RandomForestClassifier\n",
    "from sklearn.linear_model import LogisticRegression\n",
    "from sklearn.svm import SVC\n",
    "from xgboost import XGBClassifier\n",
    "\n",
    "# Load features\n",
    "train_manual = np.load(\"featuresets/train_manual_features.npy\")\n",
    "test_manual = np.load(\"featuresets/test_manual_features.npy\")\n",
    "\n",
    "train_mobilenet = np.load(\"featuresets/train_mobilenet_features.npy\")\n",
    "test_mobilenet = np.load(\"featuresets/test_mobilenet_features.npy\")\n",
    "\n",
    "train_densenet = np.load(\"featuresets/train_densenet_features.npy\")\n",
    "test_densenet = np.load(\"featuresets/test_densenet_features.npy\")\n",
    "\n",
    "train_labels = np.load(\"featuresets/train_manual_labels.npy\")  # All labels are aligned\n",
    "test_labels = np.load(\"featuresets/test_manual_labels.npy\")\n",
    "\n",
    "# Check dimensions\n",
    "print(\"Manual:\", train_manual.shape)\n",
    "print(\"MobileNet:\", train_mobilenet.shape)\n",
    "print(\"DenseNet:\", train_densenet.shape)\n",
    "print(\"Labels:\", train_labels.shape)\n",
    "\n",
    "# Combine features\n",
    "X_train = np.hstack((train_manual, train_mobilenet, train_densenet))\n",
    "X_test = np.hstack((test_manual, test_mobilenet, test_densenet))\n",
    "\n",
    "print(\"Combined train shape:\", X_train.shape)\n",
    "print(\"Combined test shape:\", X_test.shape)\n"
   ]
  },
  {
   "cell_type": "code",
   "execution_count": 3,
   "id": "1f2f3fc8-fa43-46da-a3cf-061073f55358",
   "metadata": {},
   "outputs": [
    {
     "name": "stdout",
     "output_type": "stream",
     "text": [
      "\n",
      " [Ensemble Voting Results]\n",
      "              precision    recall  f1-score   support\n",
      "\n",
      "           0       0.74      0.69      0.71       200\n",
      "           1       0.88      0.93      0.90       200\n",
      "           2       0.67      0.65      0.66       200\n",
      "           3       0.84      0.80      0.82       200\n",
      "           4       0.89      0.88      0.88       200\n",
      "           5       0.72      0.75      0.74       200\n",
      "           6       0.66      0.70      0.68       200\n",
      "\n",
      "    accuracy                           0.77      1400\n",
      "   macro avg       0.77      0.77      0.77      1400\n",
      "weighted avg       0.77      0.77      0.77      1400\n",
      "\n",
      "Voting Ensemble Accuracy: 0.77\n"
     ]
    }
   ],
   "source": [
    "from sklearn.ensemble import VotingClassifier\n",
    "\n",
    "ensemble = VotingClassifier(\n",
    "    estimators=[\n",
    "        ('svm', SVC(probability=True, C=1.0, gamma='scale', random_state=42)),\n",
    "        ('xgb', XGBClassifier(use_label_encoder=False, eval_metric='mlogloss', random_state=42)),\n",
    "        ('rf', RandomForestClassifier(n_estimators=150, random_state=42))\n",
    "    ],\n",
    "    voting='soft',  # soft = use predicted probabilities\n",
    "    n_jobs=-1\n",
    ")\n",
    "\n",
    "ensemble.fit(X_train, train_labels)\n",
    "y_pred = ensemble.predict(X_test)\n",
    "\n",
    "from sklearn.metrics import classification_report, accuracy_score\n",
    "print(\"\\n [Ensemble Voting Results]\")\n",
    "print(classification_report(test_labels, y_pred))\n",
    "print(\"Voting Ensemble Accuracy:\", accuracy_score(test_labels, y_pred))\n"
   ]
  },
  {
   "cell_type": "code",
   "execution_count": null,
   "id": "f318c263-e24a-4998-93d2-dbe49578d90f",
   "metadata": {},
   "outputs": [],
   "source": []
  }
 ],
 "metadata": {
  "kernelspec": {
   "display_name": "Python [conda env:base] *",
   "language": "python",
   "name": "conda-base-py"
  },
  "language_info": {
   "codemirror_mode": {
    "name": "ipython",
    "version": 3
   },
   "file_extension": ".py",
   "mimetype": "text/x-python",
   "name": "python",
   "nbconvert_exporter": "python",
   "pygments_lexer": "ipython3",
   "version": "3.12.7"
  }
 },
 "nbformat": 4,
 "nbformat_minor": 5
}
