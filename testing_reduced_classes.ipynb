{
 "cells": [
  {
   "cell_type": "code",
   "execution_count": 1,
   "id": "f47e6275-b220-4858-b38f-d1f389ffed75",
   "metadata": {},
   "outputs": [
    {
     "name": "stdout",
     "output_type": "stream",
     "text": [
      "Manual: (8400, 14)\n",
      "MobileNet: (8400, 1280)\n",
      "DenseNet: (8400, 1024)\n",
      "Labels: (8400,)\n",
      "Combined train shape: (8400, 2318)\n",
      "Combined test shape: (1400, 2318)\n"
     ]
    }
   ],
   "source": [
    "import numpy as np\n",
    "from sklearn.metrics import classification_report, accuracy_score\n",
    "from sklearn.ensemble import RandomForestClassifier\n",
    "from sklearn.linear_model import LogisticRegression\n",
    "from sklearn.svm import SVC\n",
    "from xgboost import XGBClassifier\n",
    "\n",
    "# Load features\n",
    "train_manual = np.load(\"featuresets/train_manual_features.npy\")\n",
    "test_manual = np.load(\"featuresets/test_manual_features.npy\")\n",
    "\n",
    "train_mobilenet = np.load(\"featuresets/train_mobilenet_features.npy\")\n",
    "test_mobilenet = np.load(\"featuresets/test_mobilenet_features.npy\")\n",
    "\n",
    "train_densenet = np.load(\"featuresets/train_densenet_features.npy\")\n",
    "test_densenet = np.load(\"featuresets/test_densenet_features.npy\")\n",
    "\n",
    "train_labels = np.load(\"featuresets/train_manual_labels.npy\")  # All labels are aligned\n",
    "test_labels = np.load(\"featuresets/test_manual_labels.npy\")\n",
    "\n",
    "# Check dimensions\n",
    "print(\"Manual:\", train_manual.shape)\n",
    "print(\"MobileNet:\", train_mobilenet.shape)\n",
    "print(\"DenseNet:\", train_densenet.shape)\n",
    "print(\"Labels:\", train_labels.shape)\n",
    "\n",
    "# Combine features\n",
    "X_train = np.hstack((train_manual, train_mobilenet, train_densenet))\n",
    "X_test = np.hstack((test_manual, test_mobilenet, test_densenet))\n",
    "\n",
    "print(\"Combined train shape:\", X_train.shape)\n",
    "print(\"Combined test shape:\", X_test.shape)\n"
   ]
  },
  {
   "cell_type": "code",
   "execution_count": 3,
   "id": "0610d836-9551-4f74-b9d8-c33452a948ce",
   "metadata": {},
   "outputs": [
    {
     "name": "stdout",
     "output_type": "stream",
     "text": [
      "\n",
      "🧼 Removed Class 6\n",
      "              precision    recall  f1-score   support\n",
      "\n",
      "           0       0.75      0.75      0.75       200\n",
      "           1       0.89      0.92      0.90       200\n",
      "           2       0.77      0.78      0.78       200\n",
      "           3       0.82      0.82      0.82       200\n",
      "           4       0.90      0.88      0.89       200\n",
      "           5       0.80      0.79      0.80       200\n",
      "\n",
      "    accuracy                           0.82      1200\n",
      "   macro avg       0.82      0.82      0.82      1200\n",
      "weighted avg       0.82      0.82      0.82      1200\n",
      "\n",
      "Filtered SVM Accuracy: 0.8225\n"
     ]
    }
   ],
   "source": [
    "import numpy as np\n",
    "from sklearn.svm import SVC\n",
    "from sklearn.metrics import classification_report, accuracy_score\n",
    "\n",
    "# 🔁 Load combined feature arrays and labels (already loaded if you're in Colab)\n",
    "# X_train, X_test, train_labels, test_labels already defined\n",
    "# If not, reload them before this block.\n",
    "\n",
    "# 🎯 Remove class 6 from training and testing sets\n",
    "class_to_remove = 6\n",
    "\n",
    "train_mask = train_labels != class_to_remove\n",
    "test_mask = test_labels != class_to_remove\n",
    "\n",
    "X_train_filtered = X_train[train_mask]\n",
    "X_test_filtered = X_test[test_mask]\n",
    "y_train_filtered = train_labels[train_mask]\n",
    "y_test_filtered = test_labels[test_mask]\n",
    "\n",
    "# 🔄 Train SVM\n",
    "svm = SVC(probability=True, kernel='rbf', C=10, gamma='scale', random_state=42)\n",
    "svm.fit(X_train_filtered, y_train_filtered)\n",
    "y_pred = svm.predict(X_test_filtered)\n",
    "\n",
    "# 📊 Evaluate\n",
    "print(\"\\n🧼 Removed Class 6\")\n",
    "print(classification_report(y_test_filtered, y_pred))\n",
    "print(\"Filtered SVM Accuracy:\", accuracy_score(y_test_filtered, y_pred))\n"
   ]
  },
  {
   "cell_type": "code",
   "execution_count": 4,
   "id": "a667f52b-6a8d-437d-9118-0a93b7dd252f",
   "metadata": {},
   "outputs": [
    {
     "name": "stdout",
     "output_type": "stream",
     "text": [
      "\n",
      "🌲 Random Forest\n",
      "              precision    recall  f1-score   support\n",
      "\n",
      "           0       0.76      0.64      0.69       200\n",
      "           1       0.83      0.91      0.87       200\n",
      "           2       0.73      0.82      0.77       200\n",
      "           3       0.82      0.77      0.79       200\n",
      "           4       0.89      0.88      0.88       200\n",
      "           5       0.78      0.79      0.78       200\n",
      "\n",
      "    accuracy                           0.80      1200\n",
      "   macro avg       0.80      0.80      0.80      1200\n",
      "weighted avg       0.80      0.80      0.80      1200\n",
      "\n",
      "Random Forest Accuracy: 0.8008333333333333\n"
     ]
    }
   ],
   "source": [
    "rf = RandomForestClassifier(n_estimators=150, random_state=42)\n",
    "rf.fit(X_train_filtered, y_train_filtered)\n",
    "rf_pred = rf.predict(X_test_filtered)\n",
    "\n",
    "print(\"\\n🌲 Random Forest\")\n",
    "print(classification_report(y_test_filtered, rf_pred))\n",
    "print(\"Random Forest Accuracy:\", accuracy_score(y_test_filtered, rf_pred))"
   ]
  },
  {
   "cell_type": "code",
   "execution_count": 5,
   "id": "5194e0d7-b87f-4570-b14a-a495d727416a",
   "metadata": {},
   "outputs": [
    {
     "name": "stderr",
     "output_type": "stream",
     "text": [
      "D:\\Anaconda\\Lib\\site-packages\\xgboost\\training.py:183: UserWarning: [10:24:46] WARNING: C:\\actions-runner\\_work\\xgboost\\xgboost\\src\\learner.cc:738: \n",
      "Parameters: { \"use_label_encoder\" } are not used.\n",
      "\n",
      "  bst.update(dtrain, iteration=i, fobj=obj)\n"
     ]
    },
    {
     "name": "stdout",
     "output_type": "stream",
     "text": [
      "\n",
      "⚡ XGBoost\n",
      "              precision    recall  f1-score   support\n",
      "\n",
      "           0       0.75      0.70      0.73       200\n",
      "           1       0.87      0.94      0.90       200\n",
      "           2       0.75      0.78      0.76       200\n",
      "           3       0.87      0.77      0.81       200\n",
      "           4       0.88      0.91      0.89       200\n",
      "           5       0.79      0.80      0.79       200\n",
      "\n",
      "    accuracy                           0.82      1200\n",
      "   macro avg       0.82      0.82      0.82      1200\n",
      "weighted avg       0.82      0.82      0.82      1200\n",
      "\n",
      "XGBoost Accuracy: 0.8166666666666667\n"
     ]
    }
   ],
   "source": [
    "xgb = XGBClassifier(use_label_encoder=False, eval_metric='mlogloss', random_state=42)\n",
    "xgb.fit(X_train_filtered, y_train_filtered)\n",
    "xgb_pred = xgb.predict(X_test_filtered)\n",
    "\n",
    "print(\"\\n⚡ XGBoost\")\n",
    "print(classification_report(y_test_filtered, xgb_pred))\n",
    "print(\"XGBoost Accuracy:\", accuracy_score(y_test_filtered, xgb_pred))"
   ]
  },
  {
   "cell_type": "code",
   "execution_count": 6,
   "id": "a3e69994-ea59-4700-a9d3-fad21d1088d6",
   "metadata": {},
   "outputs": [
    {
     "name": "stdout",
     "output_type": "stream",
     "text": [
      "\n",
      "📊 Logistic Regression\n",
      "              precision    recall  f1-score   support\n",
      "\n",
      "           0       0.66      0.62      0.64       200\n",
      "           1       0.85      0.91      0.87       200\n",
      "           2       0.68      0.71      0.69       200\n",
      "           3       0.81      0.76      0.78       200\n",
      "           4       0.88      0.88      0.88       200\n",
      "           5       0.69      0.69      0.69       200\n",
      "\n",
      "    accuracy                           0.76      1200\n",
      "   macro avg       0.76      0.76      0.76      1200\n",
      "weighted avg       0.76      0.76      0.76      1200\n",
      "\n",
      "Logistic Regression Accuracy: 0.7616666666666667\n"
     ]
    }
   ],
   "source": [
    "lr = LogisticRegression(max_iter=1000, random_state=42)\n",
    "lr.fit(X_train_filtered, y_train_filtered)\n",
    "lr_pred = lr.predict(X_test_filtered)\n",
    "\n",
    "print(\"\\n📊 Logistic Regression\")\n",
    "print(classification_report(y_test_filtered, lr_pred))\n",
    "print(\"Logistic Regression Accuracy:\", accuracy_score(y_test_filtered, lr_pred))"
   ]
  },
  {
   "cell_type": "code",
   "execution_count": null,
   "id": "ae048770-1f39-46cb-a92d-ab7719875acb",
   "metadata": {},
   "outputs": [],
   "source": []
  }
 ],
 "metadata": {
  "kernelspec": {
   "display_name": "Python [conda env:base] *",
   "language": "python",
   "name": "conda-base-py"
  },
  "language_info": {
   "codemirror_mode": {
    "name": "ipython",
    "version": 3
   },
   "file_extension": ".py",
   "mimetype": "text/x-python",
   "name": "python",
   "nbconvert_exporter": "python",
   "pygments_lexer": "ipython3",
   "version": "3.12.7"
  }
 },
 "nbformat": 4,
 "nbformat_minor": 5
}
