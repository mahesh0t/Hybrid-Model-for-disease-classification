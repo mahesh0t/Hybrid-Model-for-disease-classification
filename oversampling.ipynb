{
 "cells": [
  {
   "cell_type": "code",
   "execution_count": 1,
   "id": "ae1cc5b1-aa01-4fee-b43c-8e9546829d0f",
   "metadata": {},
   "outputs": [
    {
     "name": "stdout",
     "output_type": "stream",
     "text": [
      "Class '1. Eczema - 1.6k': sampled 1500 images (available: 1677)\n",
      "Class '2. Melanoma - 3.1k': sampled 1500 images (available: 3140)\n",
      "Class '3. Atopic Dermatitis - 1.25k': sampled 1257 images (available: 1257)\n",
      "Class '4. Melanocytic Nevi - 7.9k': sampled 1500 images (available: 7970)\n",
      "Class '5. Benign Keratosis - 2k': sampled 1500 images (available: 2079)\n",
      "Class '6. Fungal Infections - 1.7k': sampled 1500 images (available: 1702)\n",
      "Class '7. Viral Infections - 2.1k': sampled 1500 images (available: 2103)\n",
      "\n",
      "Sampling complete. Output folder: Sampled_IMG_CLASSES_2\n"
     ]
    }
   ],
   "source": [
    "\n",
    "import os\n",
    "import shutil\n",
    "import random\n",
    "\n",
    "# Paths\n",
    "original_dataset = \"D:/Capstone Project/IMG_CLASSES - Copy\"     # Replace with your actual path\n",
    "sampled_dataset = \"Sampled_IMG_CLASSES_2\"\n",
    "os.makedirs(sampled_dataset, exist_ok=True)\n",
    "\n",
    "# Target sample count\n",
    "sample_size = 1500\n",
    "\n",
    "# Loop through each class folder\n",
    "for class_name in os.listdir(original_dataset):\n",
    "    class_path = os.path.join(original_dataset, class_name)\n",
    "    if not os.path.isdir(class_path):\n",
    "        continue\n",
    "\n",
    "    # Output class folder\n",
    "    output_class_path = os.path.join(sampled_dataset, class_name)\n",
    "    os.makedirs(output_class_path, exist_ok=True)\n",
    "\n",
    "    # List and sample/copy images\n",
    "    images = os.listdir(class_path)\n",
    "    num_to_sample = min(sample_size, len(images))\n",
    "    sampled_images = random.sample(images, num_to_sample)\n",
    "\n",
    "    for img_name in sampled_images:\n",
    "        src = os.path.join(class_path, img_name)\n",
    "        dst = os.path.join(output_class_path, img_name)\n",
    "        shutil.copy2(src, dst)\n",
    "\n",
    "    print(f\"Class '{class_name}': sampled {num_to_sample} images (available: {len(images)})\")\n",
    "\n",
    "print(\"\\nSampling complete. Output folder:\", sampled_dataset)\n"
   ]
  },
  {
   "cell_type": "code",
   "execution_count": 3,
   "id": "caaa4579-4f68-49c4-b912-a0637ca9c52f",
   "metadata": {},
   "outputs": [
    {
     "name": "stdout",
     "output_type": "stream",
     "text": [
      " Resized images for class '1. Eczema - 1.6k'\n",
      " Resized images for class '2. Melanoma - 3.1k'\n",
      " Resized images for class '3. Atopic Dermatitis - 1.25k'\n",
      " Resized images for class '4. Melanocytic Nevi - 7.9k'\n",
      " Resized images for class '5. Benign Keratosis - 2k'\n",
      " Resized images for class '6. Fungal Infections - 1.7k'\n",
      " Resized images for class '7. Viral Infections - 2.1k'\n",
      "\n",
      " All images resized to 224x224 and saved in 'Resized_IMG_CLASSES_2'\n"
     ]
    }
   ],
   "source": [
    "import os\n",
    "import cv2\n",
    "\n",
    "# Input and output directories\n",
    "input_dir = \"Sampled_IMG_CLASSES_2\"\n",
    "output_dir = \"Resized_IMG_CLASSES_2\"\n",
    "os.makedirs(output_dir, exist_ok=True)\n",
    "\n",
    "# Target size\n",
    "target_size = (224, 224)\n",
    "\n",
    "# Resize and save\n",
    "for class_name in os.listdir(input_dir):\n",
    "    class_input_path = os.path.join(input_dir, class_name)\n",
    "    class_output_path = os.path.join(output_dir, class_name)\n",
    "    os.makedirs(class_output_path, exist_ok=True)\n",
    "\n",
    "    for img_name in os.listdir(class_input_path):\n",
    "        img_path = os.path.join(class_input_path, img_name)\n",
    "        image = cv2.imread(img_path)\n",
    "\n",
    "        if image is None:\n",
    "            print(f\" Skipping unreadable image: {img_path}\")\n",
    "            continue\n",
    "\n",
    "        # Resize image\n",
    "        resized = cv2.resize(image, target_size)\n",
    "\n",
    "        # Save\n",
    "        output_path = os.path.join(class_output_path, img_name)\n",
    "        cv2.imwrite(output_path, resized)\n",
    "\n",
    "    print(f\" Resized images for class '{class_name}'\")\n",
    "\n",
    "print(\"\\n All images resized to 224x224 and saved in 'Resized_IMG_CLASSES_2'\")\n"
   ]
  },
  {
   "cell_type": "code",
   "execution_count": 5,
   "id": "8908ca1f-1873-4236-bd17-493c4eec6ed2",
   "metadata": {},
   "outputs": [
    {
     "name": "stdout",
     "output_type": "stream",
     "text": [
      "Processing for densenet...\n"
     ]
    },
    {
     "name": "stderr",
     "output_type": "stream",
     "text": [
      "densenet - 1. Eczema: 100%|██████████| 1500/1500 [00:19<00:00, 77.16it/s]\n",
      "densenet - 2. Melanoma: 100%|██████████| 1000/1000 [00:13<00:00, 76.90it/s]\n",
      "densenet - 3. Atopic Dermatitis: 100%|██████████| 1257/1257 [00:16<00:00, 77.19it/s]\n",
      "densenet - 4. Melanocytic Nevi: 100%|██████████| 1000/1000 [00:13<00:00, 76.70it/s]\n",
      "densenet - 5. Benign Keratosis: 100%|██████████| 1000/1000 [00:12<00:00, 77.24it/s]\n",
      "densenet - 6. Fungal Infections: 100%|██████████| 1500/1500 [00:19<00:00, 75.88it/s]\n",
      "densenet - 7. Viral Infections: 100%|██████████| 1500/1500 [00:19<00:00, 76.95it/s]\n"
     ]
    },
    {
     "name": "stdout",
     "output_type": "stream",
     "text": [
      "Processing for resnet...\n"
     ]
    },
    {
     "name": "stderr",
     "output_type": "stream",
     "text": [
      "resnet - 1. Eczema: 100%|██████████| 1500/1500 [00:08<00:00, 168.36it/s]\n",
      "resnet - 2. Melanoma: 100%|██████████| 1000/1000 [00:05<00:00, 178.86it/s]\n",
      "resnet - 3. Atopic Dermatitis: 100%|██████████| 1257/1257 [00:07<00:00, 174.64it/s]\n",
      "resnet - 4. Melanocytic Nevi: 100%|██████████| 1000/1000 [00:05<00:00, 174.30it/s]\n",
      "resnet - 5. Benign Keratosis: 100%|██████████| 1000/1000 [00:05<00:00, 180.40it/s]\n",
      "resnet - 6. Fungal Infections: 100%|██████████| 1500/1500 [00:08<00:00, 168.06it/s]\n",
      "resnet - 7. Viral Infections: 100%|██████████| 1500/1500 [00:08<00:00, 173.54it/s]\n"
     ]
    },
    {
     "name": "stdout",
     "output_type": "stream",
     "text": [
      "Processing for mobilenetv2...\n"
     ]
    },
    {
     "name": "stderr",
     "output_type": "stream",
     "text": [
      "mobilenetv2 - 1. Eczema: 100%|██████████| 1500/1500 [00:07<00:00, 192.04it/s]\n",
      "mobilenetv2 - 2. Melanoma: 100%|██████████| 1000/1000 [00:04<00:00, 208.12it/s]\n",
      "mobilenetv2 - 3. Atopic Dermatitis: 100%|██████████| 1257/1257 [00:06<00:00, 202.54it/s]\n",
      "mobilenetv2 - 4. Melanocytic Nevi: 100%|██████████| 1000/1000 [00:04<00:00, 200.85it/s]\n",
      "mobilenetv2 - 5. Benign Keratosis: 100%|██████████| 1000/1000 [00:04<00:00, 206.81it/s]\n",
      "mobilenetv2 - 6. Fungal Infections: 100%|██████████| 1500/1500 [00:07<00:00, 197.80it/s]\n",
      "mobilenetv2 - 7. Viral Infections: 100%|██████████| 1500/1500 [00:07<00:00, 197.85it/s]\n"
     ]
    }
   ],
   "source": [
    "import os\n",
    "import torch\n",
    "from torchvision import transforms\n",
    "from PIL import Image\n",
    "from tqdm import tqdm\n",
    "\n",
    "# Paths\n",
    "input_root = \"Resized_IMG_CLASSES_2\"\n",
    "output_root = \"oversampled_normalized_images\"\n",
    "\n",
    "# Models and their specific normalization transforms\n",
    "model_transforms = {\n",
    "    \"densenet\": transforms.Normalize(mean=[0.485, 0.456, 0.406],\n",
    "                                     std=[0.229, 0.224, 0.225]),\n",
    "    \"resnet\": transforms.Normalize(mean=[0.485, 0.456, 0.406],\n",
    "                                   std=[0.229, 0.224, 0.225]),\n",
    "    \"mobilenetv2\": None  # Only /255 scaling, handled separately\n",
    "}\n",
    "\n",
    "# Base transformation (resize skipped)\n",
    "to_tensor = transforms.ToTensor()\n",
    "to_pil = transforms.ToPILImage()\n",
    "\n",
    "# Loop through model types\n",
    "for model_name, norm_transform in model_transforms.items():\n",
    "    print(f\"Processing for {model_name}...\")\n",
    "\n",
    "    model_output_dir = os.path.join(output_root, model_name)\n",
    "    os.makedirs(model_output_dir, exist_ok=True)\n",
    "\n",
    "    # Go through each class folder\n",
    "    for class_name in os.listdir(input_root):\n",
    "        class_input_dir = os.path.join(input_root, class_name)\n",
    "        class_output_dir = os.path.join(model_output_dir, class_name)\n",
    "        os.makedirs(class_output_dir, exist_ok=True)\n",
    "\n",
    "        # Loop through each image in the class folder\n",
    "        for img_name in tqdm(os.listdir(class_input_dir), desc=f\"{model_name} - {class_name}\"):\n",
    "            img_path = os.path.join(class_input_dir, img_name)\n",
    "            try:\n",
    "                image = Image.open(img_path).convert(\"RGB\")\n",
    "                tensor = to_tensor(image)\n",
    "\n",
    "                if norm_transform:\n",
    "                    tensor = norm_transform(tensor)  # Standard normalization\n",
    "                else:\n",
    "                    # MobileNetV2: only scaling to [0, 1], already done by ToTensor\n",
    "                    pass\n",
    "\n",
    "                # Convert back to PIL image (scaled for saving)\n",
    "                norm_image = to_pil(tensor)\n",
    "                norm_image.save(os.path.join(class_output_dir, img_name), format='JPEG')\n",
    "\n",
    "            except Exception as e:\n",
    "                print(f\"Error processing {img_path}: {e}\")\n"
   ]
  },
  {
   "cell_type": "code",
   "execution_count": null,
   "id": "722e86ea-a1b8-4bed-95c3-509bdc4f46e2",
   "metadata": {},
   "outputs": [],
   "source": []
  }
 ],
 "metadata": {
  "kernelspec": {
   "display_name": "Python [conda env:base] *",
   "language": "python",
   "name": "conda-base-py"
  },
  "language_info": {
   "codemirror_mode": {
    "name": "ipython",
    "version": 3
   },
   "file_extension": ".py",
   "mimetype": "text/x-python",
   "name": "python",
   "nbconvert_exporter": "python",
   "pygments_lexer": "ipython3",
   "version": "3.12.7"
  }
 },
 "nbformat": 4,
 "nbformat_minor": 5
}
