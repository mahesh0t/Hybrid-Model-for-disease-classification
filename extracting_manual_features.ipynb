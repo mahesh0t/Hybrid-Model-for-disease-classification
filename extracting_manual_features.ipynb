{
 "cells": [
  {
   "cell_type": "code",
   "execution_count": 3,
   "id": "067ee39b-9df3-44b2-824c-434849036e83",
   "metadata": {},
   "outputs": [
    {
     "name": "stdout",
     "output_type": "stream",
     "text": [
      "Requirement already satisfied: scikit-image in d:\\anaconda\\lib\\site-packages (0.24.0)\n",
      "Collecting scikit-image\n",
      "  Downloading scikit_image-0.25.2-cp312-cp312-win_amd64.whl.metadata (14 kB)\n",
      "Requirement already satisfied: numpy>=1.24 in d:\\anaconda\\lib\\site-packages (from scikit-image) (1.26.4)\n",
      "Requirement already satisfied: scipy>=1.11.4 in d:\\anaconda\\lib\\site-packages (from scikit-image) (1.13.1)\n",
      "Requirement already satisfied: networkx>=3.0 in d:\\anaconda\\lib\\site-packages (from scikit-image) (3.3)\n",
      "Requirement already satisfied: pillow>=10.1 in d:\\anaconda\\lib\\site-packages (from scikit-image) (10.4.0)\n",
      "Requirement already satisfied: imageio!=2.35.0,>=2.33 in d:\\anaconda\\lib\\site-packages (from scikit-image) (2.33.1)\n",
      "Requirement already satisfied: tifffile>=2022.8.12 in d:\\anaconda\\lib\\site-packages (from scikit-image) (2023.4.12)\n",
      "Requirement already satisfied: packaging>=21 in d:\\anaconda\\lib\\site-packages (from scikit-image) (24.1)\n",
      "Requirement already satisfied: lazy-loader>=0.4 in d:\\anaconda\\lib\\site-packages (from scikit-image) (0.4)\n",
      "Downloading scikit_image-0.25.2-cp312-cp312-win_amd64.whl (12.9 MB)\n",
      "   ---------------------------------------- 0.0/12.9 MB ? eta -:--:--\n",
      "   ---------------------------------------- 0.0/12.9 MB ? eta -:--:--\n",
      "    --------------------------------------- 0.3/12.9 MB ? eta -:--:--\n",
      "   -- ------------------------------------- 0.8/12.9 MB 1.3 MB/s eta 0:00:10\n",
      "   --- ------------------------------------ 1.0/12.9 MB 1.3 MB/s eta 0:00:10\n",
      "   ---- ----------------------------------- 1.3/12.9 MB 1.3 MB/s eta 0:00:09\n",
      "   ---- ----------------------------------- 1.6/12.9 MB 1.3 MB/s eta 0:00:09\n",
      "   ----- ---------------------------------- 1.8/12.9 MB 1.3 MB/s eta 0:00:09\n",
      "   ------ --------------------------------- 2.1/12.9 MB 1.3 MB/s eta 0:00:09\n",
      "   ------- -------------------------------- 2.4/12.9 MB 1.3 MB/s eta 0:00:09\n",
      "   -------- ------------------------------- 2.6/12.9 MB 1.3 MB/s eta 0:00:08\n",
      "   -------- ------------------------------- 2.9/12.9 MB 1.3 MB/s eta 0:00:08\n",
      "   --------- ------------------------------ 3.1/12.9 MB 1.3 MB/s eta 0:00:08\n",
      "   ---------- ----------------------------- 3.4/12.9 MB 1.3 MB/s eta 0:00:08\n",
      "   ----------- ---------------------------- 3.7/12.9 MB 1.3 MB/s eta 0:00:08\n",
      "   ------------ --------------------------- 3.9/12.9 MB 1.3 MB/s eta 0:00:07\n",
      "   ------------- -------------------------- 4.2/12.9 MB 1.3 MB/s eta 0:00:07\n",
      "   ------------- -------------------------- 4.5/12.9 MB 1.3 MB/s eta 0:00:07\n",
      "   -------------- ------------------------- 4.7/12.9 MB 1.3 MB/s eta 0:00:07\n",
      "   --------------- ------------------------ 5.0/12.9 MB 1.3 MB/s eta 0:00:07\n",
      "   ---------------- ----------------------- 5.2/12.9 MB 1.3 MB/s eta 0:00:06\n",
      "   ----------------- ---------------------- 5.5/12.9 MB 1.3 MB/s eta 0:00:06\n",
      "   ----------------- ---------------------- 5.8/12.9 MB 1.3 MB/s eta 0:00:06\n",
      "   ------------------ --------------------- 6.0/12.9 MB 1.3 MB/s eta 0:00:06\n",
      "   ------------------- -------------------- 6.3/12.9 MB 1.3 MB/s eta 0:00:06\n",
      "   -------------------- ------------------- 6.6/12.9 MB 1.3 MB/s eta 0:00:05\n",
      "   --------------------- ------------------ 6.8/12.9 MB 1.3 MB/s eta 0:00:05\n",
      "   --------------------- ------------------ 7.1/12.9 MB 1.3 MB/s eta 0:00:05\n",
      "   ---------------------- ----------------- 7.3/12.9 MB 1.3 MB/s eta 0:00:05\n",
      "   ----------------------- ---------------- 7.6/12.9 MB 1.3 MB/s eta 0:00:05\n",
      "   ------------------------ --------------- 7.9/12.9 MB 1.3 MB/s eta 0:00:04\n",
      "   ------------------------- -------------- 8.1/12.9 MB 1.3 MB/s eta 0:00:04\n",
      "   -------------------------- ------------- 8.4/12.9 MB 1.3 MB/s eta 0:00:04\n",
      "   -------------------------- ------------- 8.7/12.9 MB 1.3 MB/s eta 0:00:04\n",
      "   --------------------------- ------------ 8.9/12.9 MB 1.3 MB/s eta 0:00:04\n",
      "   ---------------------------- ----------- 9.2/12.9 MB 1.3 MB/s eta 0:00:03\n",
      "   ----------------------------- ---------- 9.4/12.9 MB 1.3 MB/s eta 0:00:03\n",
      "   ------------------------------ --------- 9.7/12.9 MB 1.3 MB/s eta 0:00:03\n",
      "   ------------------------------ --------- 10.0/12.9 MB 1.3 MB/s eta 0:00:03\n",
      "   ------------------------------- -------- 10.2/12.9 MB 1.3 MB/s eta 0:00:03\n",
      "   -------------------------------- ------- 10.5/12.9 MB 1.3 MB/s eta 0:00:02\n",
      "   --------------------------------- ------ 10.7/12.9 MB 1.3 MB/s eta 0:00:02\n",
      "   ---------------------------------- ----- 11.0/12.9 MB 1.3 MB/s eta 0:00:02\n",
      "   ---------------------------------- ----- 11.3/12.9 MB 1.3 MB/s eta 0:00:02\n",
      "   ----------------------------------- ---- 11.5/12.9 MB 1.3 MB/s eta 0:00:02\n",
      "   ------------------------------------ --- 11.8/12.9 MB 1.3 MB/s eta 0:00:01\n",
      "   ------------------------------------- -- 12.1/12.9 MB 1.3 MB/s eta 0:00:01\n",
      "   -------------------------------------- - 12.3/12.9 MB 1.3 MB/s eta 0:00:01\n",
      "   ---------------------------------------  12.6/12.9 MB 1.3 MB/s eta 0:00:01\n",
      "   ---------------------------------------- 12.9/12.9 MB 1.3 MB/s eta 0:00:00\n",
      "Installing collected packages: scikit-image\n",
      "  Attempting uninstall: scikit-image\n",
      "    Found existing installation: scikit-image 0.24.0\n",
      "    Uninstalling scikit-image-0.24.0:\n",
      "      Successfully uninstalled scikit-image-0.24.0\n",
      "Successfully installed scikit-image-0.25.2\n",
      "Note: you may need to restart the kernel to use updated packages.\n"
     ]
    },
    {
     "name": "stderr",
     "output_type": "stream",
     "text": [
      "  WARNING: Failed to remove contents in a temporary directory 'D:\\Anaconda\\Lib\\site-packages\\~kimage'.\n",
      "  You can safely remove it manually.\n"
     ]
    }
   ],
   "source": [
    "pip install --upgrade scikit-image\n"
   ]
  },
  {
   "cell_type": "code",
   "execution_count": 9,
   "id": "38db1938-c37a-429d-bf26-3d39b22b3be8",
   "metadata": {},
   "outputs": [
    {
     "name": "stdout",
     "output_type": "stream",
     "text": [
      "Extracting features from class: 1. Eczema\n"
     ]
    },
    {
     "name": "stderr",
     "output_type": "stream",
     "text": [
      "Processing 1. Eczema:   1%|          | 8/1000 [00:00<00:12, 77.28it/s]C:\\Users\\RYZEN\\AppData\\Local\\Temp\\ipykernel_2840\\1858187837.py:36: RuntimeWarning: divide by zero encountered in log10\n",
      "  log_moments = -np.sign(moments) * np.log10(np.abs(moments))  # Log scale for better representation\n",
      "C:\\Users\\RYZEN\\AppData\\Local\\Temp\\ipykernel_2840\\1858187837.py:36: RuntimeWarning: invalid value encountered in multiply\n",
      "  log_moments = -np.sign(moments) * np.log10(np.abs(moments))  # Log scale for better representation\n",
      "Processing 1. Eczema: 100%|██████████| 1000/1000 [00:14<00:00, 69.85it/s]\n"
     ]
    },
    {
     "name": "stdout",
     "output_type": "stream",
     "text": [
      "Extracting features from class: 2. Melanoma\n"
     ]
    },
    {
     "name": "stderr",
     "output_type": "stream",
     "text": [
      "Processing 2. Melanoma: 100%|██████████| 1000/1000 [00:14<00:00, 70.26it/s]\n"
     ]
    },
    {
     "name": "stdout",
     "output_type": "stream",
     "text": [
      "Extracting features from class: 3. Atopic Dermatitis\n"
     ]
    },
    {
     "name": "stderr",
     "output_type": "stream",
     "text": [
      "Processing 3. Atopic Dermatitis: 100%|██████████| 1000/1000 [00:14<00:00, 70.35it/s]\n"
     ]
    },
    {
     "name": "stdout",
     "output_type": "stream",
     "text": [
      "Extracting features from class: 4. Melanocytic Nevi\n"
     ]
    },
    {
     "name": "stderr",
     "output_type": "stream",
     "text": [
      "Processing 4. Melanocytic Nevi: 100%|██████████| 1000/1000 [00:14<00:00, 69.99it/s]\n"
     ]
    },
    {
     "name": "stdout",
     "output_type": "stream",
     "text": [
      "Extracting features from class: 5. Benign Keratosis\n"
     ]
    },
    {
     "name": "stderr",
     "output_type": "stream",
     "text": [
      "Processing 5. Benign Keratosis: 100%|██████████| 1000/1000 [00:14<00:00, 67.91it/s]\n"
     ]
    },
    {
     "name": "stdout",
     "output_type": "stream",
     "text": [
      "Extracting features from class: 6. Fungal Infections\n"
     ]
    },
    {
     "name": "stderr",
     "output_type": "stream",
     "text": [
      "Processing 6. Fungal Infections: 100%|██████████| 1000/1000 [00:14<00:00, 68.14it/s]\n"
     ]
    },
    {
     "name": "stdout",
     "output_type": "stream",
     "text": [
      "Extracting features from class: 7. Viral Infections\n"
     ]
    },
    {
     "name": "stderr",
     "output_type": "stream",
     "text": [
      "Processing 7. Viral Infections: 100%|██████████| 1000/1000 [00:13<00:00, 72.54it/s]"
     ]
    },
    {
     "name": "stdout",
     "output_type": "stream",
     "text": [
      "Feature extraction complete! Features saved in manual_features.npy and labels in manual_labels.npy\n"
     ]
    },
    {
     "name": "stderr",
     "output_type": "stream",
     "text": [
      "\n"
     ]
    }
   ],
   "source": [
    "import os\n",
    "import numpy as np\n",
    "import cv2\n",
    "from skimage.color import rgb2gray\n",
    "from skimage.feature import graycomatrix, graycoprops\n",
    "from skimage.measure import moments_hu\n",
    "from tqdm import tqdm\n",
    "\n",
    "# Function to extract color features (mean and std of RGB channels)\n",
    "def extract_color_features(image):\n",
    "    mean = np.mean(image, axis=(0, 1))  # Mean per channel\n",
    "    std = np.std(image, axis=(0, 1))    # Std deviation per channel\n",
    "    return np.concatenate([mean, std])\n",
    "\n",
    "# Function to extract texture features using GLCM\n",
    "def extract_texture_features(image):\n",
    "    gray_image = rgb2gray(image)  # Convert to grayscale\n",
    "    gray_image = (gray_image * 255).astype(np.uint8)  # Scale to 8-bit\n",
    "    \n",
    "    glcm = graycomatrix(gray_image, distances=[1], angles=[0], levels=256, symmetric=True, normed=True)\n",
    "    \n",
    "    contrast = graycoprops(glcm, 'contrast')[0, 0]\n",
    "    dissimilarity = graycoprops(glcm, 'dissimilarity')[0, 0]\n",
    "    homogeneity = graycoprops(glcm, 'homogeneity')[0, 0]\n",
    "    energy = graycoprops(glcm, 'energy')[0, 0]\n",
    "    correlation = graycoprops(glcm, 'correlation')[0, 0]\n",
    "    \n",
    "    return np.array([contrast, dissimilarity, homogeneity, energy, correlation])\n",
    "\n",
    "# Function to extract shape features using Hu Moments\n",
    "def extract_shape_features(image):\n",
    "    gray_image = rgb2gray(image)  # Convert to grayscale\n",
    "    gray_image = (gray_image * 255).astype(np.uint8)  # Convert to 8-bit\n",
    "\n",
    "    moments = moments_hu(gray_image)\n",
    "    log_moments = -np.sign(moments) * np.log10(np.abs(moments))  # Log scale for better representation\n",
    "    return log_moments\n",
    "\n",
    "# Paths for input dataset and output files\n",
    "input_dir = \"Resized_IMG_CLASSES\"\n",
    "features_output_file = \"manual_features.npy\"\n",
    "labels_output_file = \"manual_labels.npy\"\n",
    "\n",
    "# Prepare data storage\n",
    "features_list = []\n",
    "labels_list = []\n",
    "\n",
    "# Process images\n",
    "for class_name in os.listdir(input_dir):\n",
    "    class_path = os.path.join(input_dir, class_name)\n",
    "    if not os.path.isdir(class_path):\n",
    "        continue  # Skip non-folder items\n",
    "\n",
    "    print(f\"Extracting features from class: {class_name}\")\n",
    "\n",
    "    for img_name in tqdm(os.listdir(class_path), desc=f\"Processing {class_name}\"):\n",
    "        img_path = os.path.join(class_path, img_name)\n",
    "\n",
    "        # Load image\n",
    "        image = cv2.imread(img_path)\n",
    "        if image is None:\n",
    "            continue  # Skip unreadable images\n",
    "\n",
    "        # Convert BGR to RGB\n",
    "        image = cv2.cvtColor(image, cv2.COLOR_BGR2RGB)\n",
    "\n",
    "        # Extract features\n",
    "        color_features = extract_color_features(image)\n",
    "        texture_features = extract_texture_features(image)\n",
    "        shape_features = extract_shape_features(image)\n",
    "\n",
    "        # Combine all features\n",
    "        features = np.concatenate([color_features, texture_features, shape_features])\n",
    "        features_list.append(features)\n",
    "        labels_list.append(class_name)  # Store label\n",
    "\n",
    "# Convert lists to NumPy arrays\n",
    "features_array = np.array(features_list)\n",
    "labels_array = np.array(labels_list)\n",
    "\n",
    "# Save as .npy files\n",
    "np.save(features_output_file, features_array)\n",
    "np.save(labels_output_file, labels_array)\n",
    "\n",
    "print(f\"Feature extraction complete! Features saved in {features_output_file} and labels in {labels_output_file}\")\n"
   ]
  },
  {
   "cell_type": "code",
   "execution_count": null,
   "id": "65e60e15-40f2-45ba-8f79-7f4d57c41b15",
   "metadata": {},
   "outputs": [],
   "source": []
  }
 ],
 "metadata": {
  "kernelspec": {
   "display_name": "Python [conda env:base] *",
   "language": "python",
   "name": "conda-base-py"
  },
  "language_info": {
   "codemirror_mode": {
    "name": "ipython",
    "version": 3
   },
   "file_extension": ".py",
   "mimetype": "text/x-python",
   "name": "python",
   "nbconvert_exporter": "python",
   "pygments_lexer": "ipython3",
   "version": "3.12.7"
  }
 },
 "nbformat": 4,
 "nbformat_minor": 5
}
