{
 "cells": [
  {
   "cell_type": "code",
   "execution_count": 1,
   "id": "9b2363c7-cdb2-485c-80dc-f7af143956f0",
   "metadata": {},
   "outputs": [
    {
     "name": "stdout",
     "output_type": "stream",
     "text": [
      "Processing for efficientnet...\n"
     ]
    },
    {
     "name": "stderr",
     "output_type": "stream",
     "text": [
      "efficientnet - 1. Eczema: 100%|██████████| 1000/1000 [00:09<00:00, 110.19it/s]\n",
      "efficientnet - 2. Melanoma: 100%|██████████| 1000/1000 [00:07<00:00, 137.93it/s]\n",
      "efficientnet - 3. Atopic Dermatitis: 100%|██████████| 1000/1000 [00:07<00:00, 126.76it/s]\n",
      "efficientnet - 4. Melanocytic Nevi: 100%|██████████| 1000/1000 [00:07<00:00, 138.41it/s]\n",
      "efficientnet - 5. Benign Keratosis: 100%|██████████| 1000/1000 [00:08<00:00, 123.47it/s]\n",
      "efficientnet - 6. Fungal Infections: 100%|██████████| 1000/1000 [00:07<00:00, 134.53it/s]\n",
      "efficientnet - 7. Viral Infections: 100%|██████████| 1000/1000 [00:07<00:00, 132.54it/s]\n"
     ]
    },
    {
     "name": "stdout",
     "output_type": "stream",
     "text": [
      "Processing for vgg...\n"
     ]
    },
    {
     "name": "stderr",
     "output_type": "stream",
     "text": [
      "vgg - 1. Eczema: 100%|██████████| 1000/1000 [00:06<00:00, 144.00it/s]\n",
      "vgg - 2. Melanoma: 100%|██████████| 1000/1000 [00:07<00:00, 142.66it/s]\n",
      "vgg - 3. Atopic Dermatitis: 100%|██████████| 1000/1000 [00:06<00:00, 143.75it/s]\n",
      "vgg - 4. Melanocytic Nevi: 100%|██████████| 1000/1000 [00:07<00:00, 140.09it/s]\n",
      "vgg - 5. Benign Keratosis: 100%|██████████| 1000/1000 [00:07<00:00, 128.40it/s]\n",
      "vgg - 6. Fungal Infections: 100%|██████████| 1000/1000 [00:07<00:00, 130.72it/s]\n",
      "vgg - 7. Viral Infections: 100%|██████████| 1000/1000 [00:07<00:00, 128.78it/s]\n"
     ]
    },
    {
     "name": "stdout",
     "output_type": "stream",
     "text": [
      "Processing for densenet...\n"
     ]
    },
    {
     "name": "stderr",
     "output_type": "stream",
     "text": [
      "densenet - 1. Eczema: 100%|██████████| 1000/1000 [00:07<00:00, 133.35it/s]\n",
      "densenet - 2. Melanoma: 100%|██████████| 1000/1000 [00:07<00:00, 128.67it/s]\n",
      "densenet - 3. Atopic Dermatitis: 100%|██████████| 1000/1000 [00:07<00:00, 133.49it/s]\n",
      "densenet - 4. Melanocytic Nevi: 100%|██████████| 1000/1000 [00:07<00:00, 131.40it/s]\n",
      "densenet - 5. Benign Keratosis: 100%|██████████| 1000/1000 [00:07<00:00, 133.23it/s]\n",
      "densenet - 6. Fungal Infections: 100%|██████████| 1000/1000 [00:08<00:00, 119.88it/s]\n",
      "densenet - 7. Viral Infections: 100%|██████████| 1000/1000 [00:07<00:00, 132.12it/s]\n"
     ]
    },
    {
     "name": "stdout",
     "output_type": "stream",
     "text": [
      "Processing for resnet...\n"
     ]
    },
    {
     "name": "stderr",
     "output_type": "stream",
     "text": [
      "resnet - 1. Eczema: 100%|██████████| 1000/1000 [00:08<00:00, 122.67it/s]\n",
      "resnet - 2. Melanoma: 100%|██████████| 1000/1000 [00:07<00:00, 134.65it/s]\n",
      "resnet - 3. Atopic Dermatitis: 100%|██████████| 1000/1000 [00:07<00:00, 126.32it/s]\n",
      "resnet - 4. Melanocytic Nevi: 100%|██████████| 1000/1000 [00:07<00:00, 136.53it/s]\n",
      "resnet - 5. Benign Keratosis: 100%|██████████| 1000/1000 [00:07<00:00, 125.25it/s]\n",
      "resnet - 6. Fungal Infections: 100%|██████████| 1000/1000 [00:07<00:00, 128.50it/s]\n",
      "resnet - 7. Viral Infections: 100%|██████████| 1000/1000 [00:07<00:00, 125.59it/s]\n"
     ]
    },
    {
     "name": "stdout",
     "output_type": "stream",
     "text": [
      "Processing for mobilenetv2...\n"
     ]
    },
    {
     "name": "stderr",
     "output_type": "stream",
     "text": [
      "mobilenetv2 - 1. Eczema: 100%|██████████| 1000/1000 [00:06<00:00, 151.38it/s]\n",
      "mobilenetv2 - 2. Melanoma: 100%|██████████| 1000/1000 [00:06<00:00, 145.65it/s]\n",
      "mobilenetv2 - 3. Atopic Dermatitis: 100%|██████████| 1000/1000 [00:06<00:00, 156.88it/s]\n",
      "mobilenetv2 - 4. Melanocytic Nevi: 100%|██████████| 1000/1000 [00:06<00:00, 156.88it/s]\n",
      "mobilenetv2 - 5. Benign Keratosis: 100%|██████████| 1000/1000 [00:07<00:00, 142.18it/s]\n",
      "mobilenetv2 - 6. Fungal Infections: 100%|██████████| 1000/1000 [00:07<00:00, 137.03it/s]\n",
      "mobilenetv2 - 7. Viral Infections: 100%|██████████| 1000/1000 [00:07<00:00, 136.31it/s]\n"
     ]
    }
   ],
   "source": [
    "import os\n",
    "import torch\n",
    "from torchvision import transforms\n",
    "from PIL import Image\n",
    "from tqdm import tqdm\n",
    "\n",
    "# Paths\n",
    "input_root = \"Resized_IMG_CLASSES\"\n",
    "output_root = \"normalized_images\"\n",
    "\n",
    "# Models and their specific normalization transforms\n",
    "model_transforms = {\n",
    "    \"efficientnet\": transforms.Normalize(mean=[0.485, 0.456, 0.406],\n",
    "                                         std=[0.229, 0.224, 0.225]),\n",
    "    \"vgg\": transforms.Normalize(mean=[0.485, 0.456, 0.406],\n",
    "                                std=[0.229, 0.224, 0.225]),\n",
    "    \"densenet\": transforms.Normalize(mean=[0.485, 0.456, 0.406],\n",
    "                                     std=[0.229, 0.224, 0.225]),\n",
    "    \"resnet\": transforms.Normalize(mean=[0.485, 0.456, 0.406],\n",
    "                                   std=[0.229, 0.224, 0.225]),\n",
    "    \"mobilenetv2\": None  # Only /255 scaling, handled separately\n",
    "}\n",
    "\n",
    "# Base transformation (resize skipped)\n",
    "to_tensor = transforms.ToTensor()\n",
    "to_pil = transforms.ToPILImage()\n",
    "\n",
    "# Loop through model types\n",
    "for model_name, norm_transform in model_transforms.items():\n",
    "    print(f\"Processing for {model_name}...\")\n",
    "\n",
    "    model_output_dir = os.path.join(output_root, model_name)\n",
    "    os.makedirs(model_output_dir, exist_ok=True)\n",
    "\n",
    "    # Go through each class folder\n",
    "    for class_name in os.listdir(input_root):\n",
    "        class_input_dir = os.path.join(input_root, class_name)\n",
    "        class_output_dir = os.path.join(model_output_dir, class_name)\n",
    "        os.makedirs(class_output_dir, exist_ok=True)\n",
    "\n",
    "        # Loop through each image in the class folder\n",
    "        for img_name in tqdm(os.listdir(class_input_dir), desc=f\"{model_name} - {class_name}\"):\n",
    "            img_path = os.path.join(class_input_dir, img_name)\n",
    "            try:\n",
    "                image = Image.open(img_path).convert(\"RGB\")\n",
    "                tensor = to_tensor(image)\n",
    "\n",
    "                if norm_transform:\n",
    "                    tensor = norm_transform(tensor)  # Standard normalization\n",
    "                else:\n",
    "                    # MobileNetV2: only scaling to [0, 1], already done by ToTensor\n",
    "                    pass\n",
    "\n",
    "                # Convert back to PIL image (scaled for saving)\n",
    "                norm_image = to_pil(tensor)\n",
    "                norm_image.save(os.path.join(class_output_dir, img_name), format='JPEG')\n",
    "\n",
    "            except Exception as e:\n",
    "                print(f\"Error processing {img_path}: {e}\")\n"
   ]
  },
  {
   "cell_type": "code",
   "execution_count": null,
   "id": "b23f2065-457d-4c2d-a2f2-6011b39d6fbd",
   "metadata": {},
   "outputs": [],
   "source": []
  }
 ],
 "metadata": {
  "kernelspec": {
   "display_name": "Python [conda env:base] *",
   "language": "python",
   "name": "conda-base-py"
  },
  "language_info": {
   "codemirror_mode": {
    "name": "ipython",
    "version": 3
   },
   "file_extension": ".py",
   "mimetype": "text/x-python",
   "name": "python",
   "nbconvert_exporter": "python",
   "pygments_lexer": "ipython3",
   "version": "3.12.7"
  }
 },
 "nbformat": 4,
 "nbformat_minor": 5
}
