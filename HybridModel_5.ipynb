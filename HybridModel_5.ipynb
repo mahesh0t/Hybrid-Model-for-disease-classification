{
 "cells": [
  {
   "cell_type": "code",
   "execution_count": 1,
   "id": "e9bf20b5-dad2-496a-8b06-f61b080a9a80",
   "metadata": {},
   "outputs": [
    {
     "name": "stdout",
     "output_type": "stream",
     "text": [
      "EffNet features: (7000, 1280)\n",
      "DenseNet features: (7000, 1024)\n",
      "ResNet features: (7000, 2048)\n",
      "MobileNet features: (7000, 1280)\n",
      "Manual features: (7000, 18)\n",
      "Labels: (7000,)\n",
      "Combined feature shape: (7000, 5650)\n"
     ]
    }
   ],
   "source": [
    "#EfficientNet + DenseNet + ResNet + MobileNet + Manual\n",
    "\n",
    "import numpy as np\n",
    "from sklearn.model_selection import train_test_split\n",
    "from sklearn.impute import SimpleImputer\n",
    "from sklearn.preprocessing import StandardScaler\n",
    "from sklearn.metrics import classification_report, accuracy_score\n",
    "\n",
    "# Load all feature sets\n",
    "effnet_features = np.load(\"featuresets/efficientnet_features.npy\")\n",
    "densenet_features = np.load(\"featuresets/densenet_features.npy\")\n",
    "resnet_features = np.load(\"featuresets/resnet_features.npy\")\n",
    "mobilenet_features = np.load(\"featuresets/mobilenet_features.npy\")\n",
    "manual_features = np.load(\"featuresets/manual_features.npy\")\n",
    "labels = np.load(\"featuresets/vgg_labels.npy\")\n",
    "\n",
    "# Check dimensions\n",
    "print(\"EffNet features:\", effnet_features.shape)\n",
    "print(\"DenseNet features:\", densenet_features.shape)\n",
    "print(\"ResNet features:\", resnet_features.shape)\n",
    "print(\"MobileNet features:\", mobilenet_features.shape)\n",
    "print(\"Manual features:\", manual_features.shape)\n",
    "print(\"Labels:\", labels.shape)\n",
    "\n",
    "# Combine all features\n",
    "combined_features = np.hstack((\n",
    "    effnet_features, densenet_features, resnet_features,\n",
    "    mobilenet_features, manual_features\n",
    "))\n",
    "print(\"Combined feature shape:\", combined_features.shape)\n",
    "\n",
    "# Handle missing values\n",
    "imputer = SimpleImputer(strategy=\"mean\")\n",
    "combined_features = imputer.fit_transform(combined_features)\n",
    "\n",
    "# Normalize\n",
    "scaler = StandardScaler()\n",
    "combined_features = scaler.fit_transform(combined_features)\n",
    "\n",
    "# Split dataset\n",
    "X_train, X_test, y_train, y_test = train_test_split(\n",
    "    combined_features, labels, test_size=0.2, random_state=42, stratify=labels\n",
    ")\n"
   ]
  },
  {
   "cell_type": "code",
   "execution_count": 3,
   "id": "8e337772-4bdb-4a0a-be46-eea5e2ee493c",
   "metadata": {},
   "outputs": [
    {
     "name": "stderr",
     "output_type": "stream",
     "text": [
      "D:\\Anaconda\\Lib\\site-packages\\xgboost\\training.py:183: UserWarning: [12:11:01] WARNING: C:\\actions-runner\\_work\\xgboost\\xgboost\\src\\learner.cc:738: \n",
      "Parameters: { \"use_label_encoder\" } are not used.\n",
      "\n",
      "  bst.update(dtrain, iteration=i, fobj=obj)\n"
     ]
    },
    {
     "name": "stdout",
     "output_type": "stream",
     "text": [
      "\n",
      "[XGBoost]\n",
      "              precision    recall  f1-score   support\n",
      "\n",
      "           0       0.61      0.61      0.61       200\n",
      "           1       0.89      0.94      0.91       200\n",
      "           2       0.60      0.58      0.59       200\n",
      "           3       0.84      0.84      0.84       200\n",
      "           4       0.89      0.85      0.87       200\n",
      "           5       0.66      0.65      0.66       200\n",
      "           6       0.58      0.59      0.58       200\n",
      "\n",
      "    accuracy                           0.72      1400\n",
      "   macro avg       0.72      0.72      0.72      1400\n",
      "weighted avg       0.72      0.72      0.72      1400\n",
      "\n",
      "Accuracy: 0.7242857142857143\n"
     ]
    }
   ],
   "source": [
    "from xgboost import XGBClassifier\n",
    "\n",
    "model = XGBClassifier(use_label_encoder=False, eval_metric='mlogloss', random_state=42)\n",
    "model.fit(X_train, y_train)\n",
    "y_pred = model.predict(X_test)\n",
    "print(\"\\n[XGBoost]\")\n",
    "print(classification_report(y_test, y_pred))\n",
    "print(\"Accuracy:\", accuracy_score(y_test, y_pred))\n"
   ]
  },
  {
   "cell_type": "code",
   "execution_count": 4,
   "id": "8c77641f-eec5-42ab-ae81-9a3d2522aab8",
   "metadata": {},
   "outputs": [
    {
     "name": "stdout",
     "output_type": "stream",
     "text": [
      "\n",
      "[Random Forest]\n",
      "              precision    recall  f1-score   support\n",
      "\n",
      "           0       0.56      0.59      0.58       200\n",
      "           1       0.81      0.90      0.85       200\n",
      "           2       0.53      0.50      0.52       200\n",
      "           3       0.75      0.73      0.74       200\n",
      "           4       0.82      0.80      0.81       200\n",
      "           5       0.59      0.64      0.61       200\n",
      "           6       0.59      0.51      0.55       200\n",
      "\n",
      "    accuracy                           0.67      1400\n",
      "   macro avg       0.67      0.67      0.67      1400\n",
      "weighted avg       0.67      0.67      0.67      1400\n",
      "\n",
      "Accuracy: 0.6678571428571428\n"
     ]
    }
   ],
   "source": [
    "from sklearn.ensemble import RandomForestClassifier\n",
    "\n",
    "model = RandomForestClassifier(n_estimators=100, random_state=42)\n",
    "model.fit(X_train, y_train)\n",
    "y_pred = model.predict(X_test)\n",
    "print(\"\\n[Random Forest]\")\n",
    "print(classification_report(y_test, y_pred))\n",
    "print(\"Accuracy:\", accuracy_score(y_test, y_pred))\n"
   ]
  },
  {
   "cell_type": "code",
   "execution_count": 5,
   "id": "15e3d99a-6177-4ef3-826a-7fca69be318f",
   "metadata": {},
   "outputs": [
    {
     "name": "stdout",
     "output_type": "stream",
     "text": [
      "\n",
      "[SVM]\n",
      "              precision    recall  f1-score   support\n",
      "\n",
      "           0       0.62      0.65      0.64       200\n",
      "           1       0.92      0.91      0.91       200\n",
      "           2       0.63      0.65      0.64       200\n",
      "           3       0.84      0.86      0.85       200\n",
      "           4       0.89      0.86      0.88       200\n",
      "           5       0.74      0.69      0.71       200\n",
      "           6       0.64      0.65      0.64       200\n",
      "\n",
      "    accuracy                           0.75      1400\n",
      "   macro avg       0.75      0.75      0.75      1400\n",
      "weighted avg       0.75      0.75      0.75      1400\n",
      "\n",
      "Accuracy: 0.7521428571428571\n"
     ]
    }
   ],
   "source": [
    "from sklearn.svm import SVC\n",
    "\n",
    "model = SVC(kernel='rbf', random_state=42)\n",
    "model.fit(X_train, y_train)\n",
    "y_pred = model.predict(X_test)\n",
    "print(\"\\n[SVM]\")\n",
    "print(classification_report(y_test, y_pred))\n",
    "print(\"Accuracy:\", accuracy_score(y_test, y_pred))\n"
   ]
  },
  {
   "cell_type": "code",
   "execution_count": 6,
   "id": "50acf566-71ff-4364-96dd-602edd0a0f1e",
   "metadata": {},
   "outputs": [
    {
     "name": "stdout",
     "output_type": "stream",
     "text": [
      "\n",
      "[Logistic Regression]\n",
      "              precision    recall  f1-score   support\n",
      "\n",
      "           0       0.60      0.54      0.57       200\n",
      "           1       0.92      0.93      0.92       200\n",
      "           2       0.58      0.56      0.57       200\n",
      "           3       0.84      0.86      0.85       200\n",
      "           4       0.89      0.88      0.88       200\n",
      "           5       0.61      0.64      0.62       200\n",
      "           6       0.56      0.60      0.58       200\n",
      "\n",
      "    accuracy                           0.71      1400\n",
      "   macro avg       0.71      0.71      0.71      1400\n",
      "weighted avg       0.71      0.71      0.71      1400\n",
      "\n",
      "Accuracy: 0.7142857142857143\n"
     ]
    }
   ],
   "source": [
    "from sklearn.linear_model import LogisticRegression\n",
    "\n",
    "model = LogisticRegression(max_iter=1000, random_state=42)\n",
    "model.fit(X_train, y_train)\n",
    "y_pred = model.predict(X_test)\n",
    "print(\"\\n[Logistic Regression]\")\n",
    "print(classification_report(y_test, y_pred))\n",
    "print(\"Accuracy:\", accuracy_score(y_test, y_pred))\n"
   ]
  },
  {
   "cell_type": "code",
   "execution_count": null,
   "id": "8d49b6a6-02a6-4c5a-86c7-ae20a4130ffc",
   "metadata": {},
   "outputs": [],
   "source": []
  }
 ],
 "metadata": {
  "kernelspec": {
   "display_name": "Python [conda env:base] *",
   "language": "python",
   "name": "conda-base-py"
  },
  "language_info": {
   "codemirror_mode": {
    "name": "ipython",
    "version": 3
   },
   "file_extension": ".py",
   "mimetype": "text/x-python",
   "name": "python",
   "nbconvert_exporter": "python",
   "pygments_lexer": "ipython3",
   "version": "3.12.7"
  }
 },
 "nbformat": 4,
 "nbformat_minor": 5
}
